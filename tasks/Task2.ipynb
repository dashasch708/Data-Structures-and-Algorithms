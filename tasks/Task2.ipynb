{
 "cells": [
  {
   "cell_type": "markdown",
   "id": "arctic-stocks",
   "metadata": {},
   "source": [
    "### Задание №1\n",
    "Массив A состоит из целых положительных чисел длин отрезков. Составьте из трех отрезков такой треугольник, чтобы его периметр был максимально возможным. Если невозможно составить треугольник с положительной площадью функция возвращает 0."
   ]
  },
  {
   "cell_type": "code",
   "execution_count": 21,
   "id": "1d1df589",
   "metadata": {},
   "outputs": [],
   "source": [
    "import random\n",
    "from typing import List\n",
    "import collections\n",
    "import heapq"
   ]
  },
  {
   "cell_type": "code",
   "execution_count": 23,
   "id": "caring-truck",
   "metadata": {
    "scrolled": false
   },
   "outputs": [
    {
     "name": "stdout",
     "output_type": "stream",
     "text": [
      "Введите кол-во длин отрезков: 10\n",
      "[468, 445, 912, 963, 283, 728, 611, 51, 419, 827]\n"
     ]
    },
    {
     "data": {
      "text/plain": [
       "[963, 912, 827]"
      ]
     },
     "execution_count": 23,
     "metadata": {},
     "output_type": "execute_result"
    }
   ],
   "source": [
    "def max_P(A):\n",
    "    A.sort(reverse = True)\n",
    "    for i in range(len(A)-3):\n",
    "        if A[i]<A[i+1]+A[i+2]:\n",
    "            fl = [A[i], A[i+1], A[i+2]]\n",
    "            break\n",
    "        else:\n",
    "            fl = 0\n",
    "    return fl\n",
    "    \n",
    "k = int(input('Введите кол-во длин отрезков: '))\n",
    "A = [random.randint(0, 1000) for i in range(k)]\n",
    "print(A)\n",
    "max_P(A)"
   ]
  },
  {
   "cell_type": "markdown",
   "id": "maritime-conversation",
   "metadata": {},
   "source": [
    "### Задание №2\n",
    "Дан массив неотрицательных целых чисел nums. Расположите их в таком порядке, чтобы вместе они образовали максимально возможное число. Замечание: Результат может быть очень большим числом, поэтому представьте его как string, а не integer."
   ]
  },
  {
   "cell_type": "code",
   "execution_count": 24,
   "id": "alert-charm",
   "metadata": {
    "scrolled": false
   },
   "outputs": [
    {
     "name": "stdout",
     "output_type": "stream",
     "text": [
      "Введите кол-во чисел: 34\n",
      "[243, 627, 897, 35, 42, 543, 620, 208, 239, 957, 56, 453, 66, 55, 885, 622, 160, 925, 347, 734, 227, 280, 23, 834, 688, 580, 5, 594, 142, 567, 744, 902, 779, 896]\n"
     ]
    },
    {
     "data": {
      "text/plain": [
       "'9579259028978968858347797447346886662762262059458056756555543453423534728024323923227208160142'"
      ]
     },
     "execution_count": 24,
     "metadata": {},
     "output_type": "execute_result"
    }
   ],
   "source": [
    "def max_number(mas):\n",
    "    def bigger(a, b):\n",
    "        direct = int(str(a) + str(b))\n",
    "        reverse = int(str(b) + str(a))\n",
    "        if direct > reverse:\n",
    "            return True    \n",
    "    \n",
    "    def array_sort(mas):\n",
    "        for i in range (len(mas) - 1):\n",
    "            bigger_num = i\n",
    "            for j in range(i + 1, len(mas)):\n",
    "                if not bigger(mas[bigger_num], mas[j]):\n",
    "                    bigger_num = j\n",
    "            mas[i], mas[bigger_num] = mas[bigger_num], mas[i]\n",
    "    \n",
    "    array_sort(mas)\n",
    "    return ''.join(str(n) for n in mas)\n",
    "\n",
    "k = int(input('Введите кол-во чисел: '))\n",
    "mas = [random.randint(0, 1000) for i in range(k)]\n",
    "\n",
    "print(mas)\n",
    "max_number(mas)"
   ]
  },
  {
   "cell_type": "markdown",
   "id": "catholic-roots",
   "metadata": {},
   "source": [
    "### Задание №3\n",
    "Дана матрица mat размером m * n, значения целочисленные. Напишите функцию, сортирующую каждую диагональ матрицы по возрастанию и возвращающую получившуюся матрицу."
   ]
  },
  {
   "cell_type": "code",
   "execution_count": 50,
   "id": "cleared-anniversary",
   "metadata": {
    "scrolled": false
   },
   "outputs": [
    {
     "name": "stdout",
     "output_type": "stream",
     "text": [
      "Исходная матрица: \n",
      "[2, 44, 5] \n",
      "\n",
      "[3, 6, 34] \n",
      "\n",
      "[54, 5, 2] \n",
      "\n",
      "Отсортированная матрица: \n",
      "[2, 34, 5] \n",
      "\n",
      "[3, 2, 44] \n",
      "\n",
      "[54, 5, 6] \n",
      "\n"
     ]
    }
   ],
   "source": [
    "def sort_diagonally(mat: List[List[int]]) -> List[List[int]]:\n",
    "        m, n = len(mat), len(mat[0])\n",
    "        new_mat = collections.defaultdict(list)\n",
    "        \n",
    "        for row in range(m):\n",
    "            for col in range(n):\n",
    "                heapq.heappush(new_mat[row-col], mat[row][col])\n",
    "                \n",
    "        for row in range(m):\n",
    "            for col in range(n):\n",
    "                mat[row][col] = heapq.heappop(new_mat[row-col])\n",
    "\n",
    "        return mat\n",
    "\n",
    "def print_mat(mat):\n",
    "    for i in range(len(mat)):\n",
    "        print(mat[i],\"\\n\")\n",
    "\n",
    "mat = [[2, 44, 5], [3, 6, 34], [54, 5, 2]]\n",
    "print('Исходная матрица: ')\n",
    "print_mat(mat)\n",
    "sort_diagonally(mat)\n",
    "print('Отсортированная матрица: ')\n",
    "print_mat(mat)"
   ]
  }
 ],
 "metadata": {
  "kernelspec": {
   "display_name": "Python 3 (ipykernel)",
   "language": "python",
   "name": "python3"
  },
  "language_info": {
   "codemirror_mode": {
    "name": "ipython",
    "version": 3
   },
   "file_extension": ".py",
   "mimetype": "text/x-python",
   "name": "python",
   "nbconvert_exporter": "python",
   "pygments_lexer": "ipython3",
   "version": "3.9.7"
  }
 },
 "nbformat": 4,
 "nbformat_minor": 5
}
