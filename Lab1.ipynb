{
 "cells": [
  {
   "cell_type": "markdown",
   "id": "fifteen-sailing",
   "metadata": {},
   "source": [
    "# Лабораторная работа №1\n",
    "## Выполнила студентка группы БФИ2001 Щеголькова Д.Г."
   ]
  },
  {
   "cell_type": "markdown",
   "id": "particular-syndicate",
   "metadata": {},
   "source": [
    "### Оглавление\n",
    "1. [Задание 1](#Задание-№1)\n",
    "2. [Задание 2](#Задание-№2)\n",
    "3. [Задание 3](#Задание-№3)\n",
    "4. [Вывод](#Вывод)"
   ]
  },
  {
   "cell_type": "markdown",
   "id": "arctic-stocks",
   "metadata": {},
   "source": [
    "### Задание №1\n",
    "<i> Вызвать функцию print() и передать туда строку Hello, World! </i>"
   ]
  },
  {
   "cell_type": "code",
   "execution_count": 1,
   "id": "caring-truck",
   "metadata": {
    "scrolled": true
   },
   "outputs": [
    {
     "name": "stdout",
     "output_type": "stream",
     "text": [
      "Hello, World!\n"
     ]
    }
   ],
   "source": [
    "print ('Hello, World!')"
   ]
  },
  {
   "cell_type": "markdown",
   "id": "maritime-conversation",
   "metadata": {},
   "source": [
    "### Задание №2\n",
    "Написать генератор случайных матриц(многомерных), который принимает\n",
    "опциональные параметры <b>m</b>, <b>n</b>, <b>min_limit</b>, <b>max_limit</b>, где <b>m</b> и <b>n</b> указывают размер\n",
    "матрицы, а <b>min_lim</b> и <b>max_lim</b> - минимальное и максимальное значение для\n",
    "генерируемого числа."
   ]
  },
  {
   "cell_type": "code",
   "execution_count": 2,
   "id": "built-contact",
   "metadata": {},
   "outputs": [],
   "source": [
    "import random\n",
    "import time"
   ]
  },
  {
   "cell_type": "code",
   "execution_count": 3,
   "id": "alert-charm",
   "metadata": {},
   "outputs": [],
   "source": [
    "def create_matrix():\n",
    "    user_m = int(input('Введите кол-во строк: '))\n",
    "    user_n = int(input('Введите кол-во столбцов: '))\n",
    "    user_min_limit = int(input('Введите минимальный элемент: '))\n",
    "    user_max_limit = int(input('Введите максимальный элемент: '))\n",
    "    matrix = [ [ random.randint(user_min_limit, user_max_limit) for j in range(user_n)] for i in range(user_m) ]\n",
    "    for i in range(user_m):\n",
    "        print(matrix[i])\n",
    "    return matrix"
   ]
  },
  {
   "cell_type": "code",
   "execution_count": 4,
   "id": "5339393f",
   "metadata": {},
   "outputs": [
    {
     "name": "stdout",
     "output_type": "stream",
     "text": [
      "Введите кол-во строк: 4\n",
      "Введите кол-во столбцов: 3\n",
      "Введите минимальный элемент: 5\n",
      "Введите максимальный элемент: 67\n",
      "[22, 49, 29]\n",
      "[41, 43, 64]\n",
      "[43, 28, 63]\n",
      "[55, 45, 46]\n"
     ]
    }
   ],
   "source": [
    "matrix = create_matrix()"
   ]
  },
  {
   "cell_type": "markdown",
   "id": "catholic-roots",
   "metadata": {},
   "source": [
    "### Задание №3\n",
    "Реализовать методы сортировки строк числовой матрицы в соответствии с\n",
    "заданием. Оценить время работы каждого алгоритма сортировки и сравнить его со\n",
    "временем стандартной функции сортировки. Испытания проводить на сгенерированных\n",
    "матрицах."
   ]
  },
  {
   "cell_type": "code",
   "execution_count": 5,
   "id": "opposed-creature",
   "metadata": {},
   "outputs": [],
   "source": [
    "import copy"
   ]
  },
  {
   "cell_type": "code",
   "execution_count": 6,
   "id": "cleared-anniversary",
   "metadata": {
    "scrolled": false
   },
   "outputs": [
    {
     "name": "stdout",
     "output_type": "stream",
     "text": [
      "Сгенерированная матрица: \n",
      "[[22, 49, 29], [41, 43, 64], [43, 28, 63], [55, 45, 46]]\n",
      "Отсортированная матрица: \n",
      "[[22, 29, 49], [28, 43, 63], [41, 43, 64], [45, 46, 55]]\n",
      "--- 1.3880729675292969 ms ---\n"
     ]
    }
   ],
   "source": [
    "# Сортировка выбором.\n",
    "# Берётся срез массива, в котором минимальный элемент переносят в самый левый угол,\n",
    "# после чего срез уменьшается и цикл повторяется.\n",
    "start_time = time.time()\n",
    "\n",
    "array = copy.deepcopy(matrix)\n",
    "print('Сгенерированная матрица: ')\n",
    "print(array)\n",
    "\n",
    "def selection_sort(matrix):\n",
    "    for i in range(len(matrix)-1):\n",
    "        nom_min = i\n",
    "        j = i + 1\n",
    "        while j<len(matrix):\n",
    "                if matrix[j] < matrix[nom_min]:\n",
    "                    nom_min = j;\n",
    "                j+=1\n",
    "        matrix[i], matrix[nom_min] = matrix[nom_min], matrix[i]\n",
    "    return matrix \n",
    "\n",
    "for row in array:\n",
    "    selection_sort(row)\n",
    "selection_sort(array)\n",
    "\n",
    "print('Отсортированная матрица: ')\n",
    "print(array)\n",
    "\n",
    "print(\"--- %s ms ---\" % ((time.time() - start_time)*1000))"
   ]
  },
  {
   "cell_type": "code",
   "execution_count": 7,
   "id": "roman-silly",
   "metadata": {
    "scrolled": true
   },
   "outputs": [
    {
     "name": "stdout",
     "output_type": "stream",
     "text": [
      "Сгенерированная матрица: \n",
      "[[22, 49, 29], [41, 43, 64], [43, 28, 63], [55, 45, 46]]\n",
      "Отсортированная матрица: \n",
      "[[22, 29, 49], [28, 43, 63], [41, 43, 64], [45, 46, 55]]\n",
      "--- 2.1359920501708984 ms ---\n"
     ]
    }
   ],
   "source": [
    "# Сортировка вставкой.\n",
    "start_time = time.time()\n",
    "\n",
    "array = copy.deepcopy(matrix)\n",
    "print('Сгенерированная матрица: ')\n",
    "print(array)\n",
    "\n",
    "def insertion_sort(matrix):\n",
    "    for i in range (1, len(matrix)):\n",
    "        j = i-1\n",
    "        x = matrix[i]\n",
    "        while j>=0 and x<matrix[j]:\n",
    "            matrix[j+1]=matrix[j]\n",
    "            j=j-1\n",
    "        matrix[j+1] = x\n",
    "    return matrix\n",
    "\n",
    "for row in array:\n",
    "    insertion_sort(row)\n",
    "insertion_sort(array)\n",
    "\n",
    "print('Отсортированная матрица: ')\n",
    "print(array)\n",
    "\n",
    "print(\"--- %s ms ---\" % ((time.time() - start_time)*1000))"
   ]
  },
  {
   "cell_type": "code",
   "execution_count": 8,
   "id": "vital-implementation",
   "metadata": {},
   "outputs": [
    {
     "name": "stdout",
     "output_type": "stream",
     "text": [
      "Сгенерированная матрица: \n",
      "[[22, 49, 29], [41, 43, 64], [43, 28, 63], [55, 45, 46]]\n",
      "Отсортированная матрица: \n",
      "[[22, 29, 49], [28, 43, 63], [41, 43, 64], [45, 46, 55]]\n",
      "--- 2.218008041381836 ms ---\n"
     ]
    }
   ],
   "source": [
    "# Сортировка обменом. || Сортировка пузырьком.\n",
    "start_time = time.time()\n",
    "\n",
    "array = copy.deepcopy(matrix)\n",
    "print('Сгенерированная матрица: ')\n",
    "print(array)\n",
    "\n",
    "def bubble_sort(matrix):\n",
    "    for i in range(len(matrix)-1):\n",
    "        for j in range(len(matrix)-1-i):\n",
    "            if matrix[j]>=matrix[j+1]:\n",
    "                matrix[j], matrix[j+1] = matrix[j+1], matrix[j]\n",
    "    return matrix\n",
    "\n",
    "for row in array:\n",
    "    bubble_sort(row)\n",
    "bubble_sort(array)\n",
    "\n",
    "print('Отсортированная матрица: ')\n",
    "print(array)\n",
    "\n",
    "print(\"--- %s ms ---\" % ((time.time() - start_time)*1000))"
   ]
  },
  {
   "cell_type": "code",
   "execution_count": 19,
   "id": "veterinary-glory",
   "metadata": {},
   "outputs": [
    {
     "name": "stdout",
     "output_type": "stream",
     "text": [
      "Сгенерированная матрица: \n",
      "[[22, 49, 29], [41, 43, 64], [43, 28, 63], [55, 45, 46]]\n",
      "Отсортированная матрица: \n",
      "[[22, 49, 29], [55, 46, 45], [43, 63, 28], [41, 64, 43]]\n",
      "--- 1.438140869140625 ms ---\n"
     ]
    }
   ],
   "source": [
    "# Сортировка Шелла.\n",
    "start_time = time.time()\n",
    "\n",
    "array = copy.deepcopy(matrix)\n",
    "print('Сгенерированная матрица: ')\n",
    "print(array)\n",
    "\n",
    "def shell_sort(matrix):\n",
    "    k = len(matrix)//2\n",
    "    while k>0:\n",
    "        for i in range(1, len(matrix)-k):\n",
    "            j = i\n",
    "            while j>=1 and matrix[j]<matrix[j+k]:\n",
    "                x = matrix[j]\n",
    "                matrix[j] = matrix[j+k]\n",
    "                matrix[j+k] = x\n",
    "                j = j-1\n",
    "        k=k//2\n",
    "\n",
    "for row in array:\n",
    "    shell_sort(row)\n",
    "shell_sort(array)\n",
    "\n",
    "print('Отсортированная матрица: ')\n",
    "print(array)\n",
    "\n",
    "\n",
    "print(\"--- %s ms ---\" % ((time.time() - start_time)*1000))"
   ]
  },
  {
   "cell_type": "code",
   "execution_count": 22,
   "id": "correct-chaos",
   "metadata": {},
   "outputs": [
    {
     "name": "stdout",
     "output_type": "stream",
     "text": [
      "Сгенерированная матрица: \n",
      "[[22, 49, 29], [41, 43, 64], [43, 28, 63], [55, 45, 46]]\n",
      "Отсортированная матрица: \n",
      "[[22, 49, 29], [41, 43, 64], [43, 28, 63], [55, 45, 46]]\n",
      "--- 0.9489059448242188 ms ---\n"
     ]
    }
   ],
   "source": [
    "# Быстрая сортировка.\n",
    "start_time = time.time()\n",
    "\n",
    "array = copy.deepcopy(matrix)\n",
    "print('Сгенерированная матрица: ')\n",
    "print(array)\n",
    "\n",
    "def quick_sort(matrix):\n",
    "    if len(matrix) <= 1:\n",
    "        return matrix\n",
    "    else:\n",
    "        x = matrix[len(matrix) // 2]\n",
    "        less, equal, bigger = [], [], []\n",
    "        for i in matrix:\n",
    "            if i < x:\n",
    "                less.append(i)\n",
    "            elif i > x:\n",
    "                bigger.append(i)\n",
    "            else:\n",
    "                equal.append(i)\n",
    "        return quick_sort(less) + equal + quick_sort(bigger)\n",
    "\n",
    "for row in array:\n",
    "    quick_sort(row)\n",
    "quick_sort(array)\n",
    "\n",
    "print('Отсортированная матрица: ')\n",
    "print(array)\n",
    "\n",
    "\n",
    "print(\"--- %s ms ---\" % ((time.time() - start_time)*1000))"
   ]
  },
  {
   "cell_type": "code",
   "execution_count": 11,
   "id": "french-czech",
   "metadata": {
    "scrolled": true
   },
   "outputs": [
    {
     "name": "stdout",
     "output_type": "stream",
     "text": [
      "Сгенерированная матрица: \n",
      "[[22, 49, 29], [41, 43, 64], [43, 28, 63], [55, 45, 46]]\n",
      "Отсортированная матрица: \n",
      "[[22, 29, 49], [28, 43, 63], [41, 43, 64], [45, 46, 55]]\n",
      "--- 1645169450755.7842 ms ---\n"
     ]
    }
   ],
   "source": [
    "# Турнирная сортировка.\n",
    "import heapq\n",
    "start_time = time.time()\n",
    "\n",
    "array = copy.deepcopy(matrix)\n",
    "print('Сгенерированная матрица: ')\n",
    "print(array)\n",
    "\n",
    "MAX_SIZE = 32\n",
    "\n",
    "def merge_sort(one, two):\n",
    "    result = []\n",
    "    while len(one) > 0 and len(two) > 0:\n",
    "        if (two[0] < one[0]):\n",
    "            result.append(two.pop(0))\n",
    "        else:\n",
    "            result.append(one.pop(0))        \n",
    "    length_one = len(one)\n",
    "    length_two = len(two)\n",
    "    \n",
    "    if (length_one == 0 and length_two == 0):\n",
    "        return result\n",
    "    if (length_one > 0):\n",
    "        result += one\n",
    "    else:\n",
    "        result += two               \n",
    "    return result\n",
    "\n",
    "def optimal_tournament_sort(values):\n",
    "    heap = []\n",
    "    for i in values:\n",
    "        heapq.heappush(heap, i)\n",
    "    for i in range(len(heap)):\n",
    "        values[i] = heapq.heappop(heap)\n",
    "    return values\n",
    "                \n",
    "def bracketize(values):\n",
    "    heap = []\n",
    "    while len(heap) <= MAX_SIZE:\n",
    "        heapq.heappush(heap, values.pop(0))\n",
    "    winners = []\n",
    "    losers = []\n",
    "    \n",
    "    while len(values) > 0:\n",
    "        if len(winners) == 0:\n",
    "            winners.append(heapq.heappop(heap))\n",
    "        if values[0] > winners[-1]:\n",
    "            heapq.heappush(heap, values.pop(0))\n",
    "        else:\n",
    "            losers.append(values.pop(0))\n",
    "        if len(heap) > 0:\n",
    "            winners.append(heapq.heappop(heap))\n",
    "            \n",
    "    while len(heap) > 0:\n",
    "        winners.append(heapq.heappop(heap))\n",
    "    if len(losers) == 0:\n",
    "        return winners\n",
    "    return merge_sort(tournament_sort(losers), winners)\n",
    "\n",
    "def tournament_sort(values):\n",
    "    if (len(values) <= MAX_SIZE):\n",
    "        return optimal_tournament_sort(values)\n",
    "    else:\n",
    "        return bracketize(values)\n",
    "    \n",
    "start_time = time.perf_counter()\n",
    "\n",
    "for row in array:\n",
    "    tournament_sort(row)\n",
    "tournament_sort(array)\n",
    "\n",
    "print('Отсортированная матрица: ')\n",
    "print(array)\n",
    "\n",
    "print(\"--- %s ms ---\" % ((time.time() - start_time)*1000))"
   ]
  },
  {
   "cell_type": "code",
   "execution_count": 12,
   "id": "bc5284df",
   "metadata": {},
   "outputs": [
    {
     "name": "stdout",
     "output_type": "stream",
     "text": [
      "Сгенерированная матрица: \n",
      "[[22, 49, 29], [41, 43, 64], [43, 28, 63], [55, 45, 46]]\n",
      "Отсортированная матрица: \n",
      "[[22, 29, 49], [28, 43, 63], [41, 43, 64], [45, 46, 55]]\n",
      "--- 1.2722015380859375 ms ---\n"
     ]
    }
   ],
   "source": [
    "# Стандартная функция сортировки\n",
    "start_time = time.time()\n",
    "\n",
    "array = copy.deepcopy(matrix)\n",
    "print('Сгенерированная матрица: ')\n",
    "print(array)\n",
    "\n",
    "for row in array:\n",
    "    row.sort()\n",
    "array.sort()    \n",
    "\n",
    "print('Отсортированная матрица: ')\n",
    "print(array)\n",
    "\n",
    "print(\"--- %s ms ---\" % ((time.time() - start_time)*1000))"
   ]
  },
  {
   "cell_type": "markdown",
   "id": "rental-jerusalem",
   "metadata": {},
   "source": [
    "### Вывод\n"
   ]
  },
  {
   "cell_type": "markdown",
   "id": "9d108a0a",
   "metadata": {},
   "source": [
    "В ходе лабораторной работы были изучены различные методы сортировки матриц и время их выполнения. По результатам лабораторной работы понятно, что быстрее всего были быстрая сортировка и встроенная функция сортировки. "
   ]
  }
 ],
 "metadata": {
  "kernelspec": {
   "display_name": "Python 3 (ipykernel)",
   "language": "python",
   "name": "python3"
  },
  "language_info": {
   "codemirror_mode": {
    "name": "ipython",
    "version": 3
   },
   "file_extension": ".py",
   "mimetype": "text/x-python",
   "name": "python",
   "nbconvert_exporter": "python",
   "pygments_lexer": "ipython3",
   "version": "3.9.7"
  }
 },
 "nbformat": 4,
 "nbformat_minor": 5
}
