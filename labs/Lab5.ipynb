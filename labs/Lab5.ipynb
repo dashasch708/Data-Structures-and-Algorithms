{
 "cells": [
  {
   "cell_type": "markdown",
   "metadata": {
    "id": "WPvB9TcMmKA6"
   },
   "source": [
    "# Лабораторная работа №5\n",
    "# Рекурсия. Фракталы."
   ]
  },
  {
   "cell_type": "markdown",
   "metadata": {
    "id": "96Gi_LEvmSVH"
   },
   "source": [
    "## Выполнила студентка группы БФИ2001 Щеголькова Д.Г.\n",
    "***"
   ]
  },
  {
   "cell_type": "markdown",
   "metadata": {
    "id": "4clYOyb0mbEv"
   },
   "source": [
    "### Задание:\n",
    "Реализовать генерацию заданного типа фрактала с применением рекурсивных функций.\n",
    "\n",
    "\n",
    "Добавить возможность задания глубины фрактала. \n",
    "\n",
    "\n",
    "Оценить глубину рекурсии. \n",
    "\n",
    "\n",
    "Построить таблицу зависимости времени построения от глубины фрактала."
   ]
  },
  {
   "cell_type": "markdown",
   "metadata": {
    "id": "wDXHbUmMmhRL"
   },
   "source": [
    "### Список фракталов:\n",
    "\n",
    "Кривая Коха\n",
    "| Кривая Гильберта\n",
    "| Кривая Серпинского\n",
    "| Салфетка Серпинского\n",
    "| Ковер Серпинского\n",
    "| Дерево Пифагора "
   ]
  },
  {
   "cell_type": "markdown",
   "metadata": {
    "id": "Wggfn8l7nG72"
   },
   "source": [
    "### Выполнение:"
   ]
  },
  {
   "cell_type": "code",
   "execution_count": 1,
   "metadata": {
    "id": "681a95mZnOSa"
   },
   "outputs": [],
   "source": [
    "import turtle\n",
    "import time"
   ]
  },
  {
   "cell_type": "code",
   "execution_count": null,
   "metadata": {
    "scrolled": false
   },
   "outputs": [
    {
     "name": "stdout",
     "output_type": "stream",
     "text": [
      "Введите глубину фрактала: 4\n",
      "--- 48.26893401145935 s ---\n"
     ]
    }
   ],
   "source": [
    "#кривая Коха\n",
    "n = int(input('Введите глубину фрактала: '))\n",
    "def koch_line(ln, n):\n",
    "    if n == 0:        # рисуем линию и дальше не идем\n",
    "        t.fd(ln)\n",
    "        return\n",
    "    a = ln/3          #иначе разбиваем отрезок \n",
    "                      #и вместо него делаем набор отрезков  \n",
    "    koch_line(a, n-1)\n",
    "    t.left(60)\n",
    "    koch_line(a, n-1)\n",
    "    t.right(120)\n",
    "    koch_line(a, n-1)\n",
    "    t.left(60)\n",
    "    koch_line(a, n-1)\n",
    "    \n",
    "\n",
    "t = turtle.Turtle()\n",
    "t.ht()\n",
    "\n",
    "start_time = time.time()\n",
    "koch_line(200, n)\n",
    "print(\"--- %s s ---\" % (time.time() - start_time))\n",
    "\n",
    "turtle.done()"
   ]
  },
  {
   "cell_type": "code",
   "execution_count": 1,
   "metadata": {},
   "outputs": [],
   "source": [
    "import turtle\n",
    "import time"
   ]
  },
  {
   "cell_type": "code",
   "execution_count": null,
   "metadata": {
    "scrolled": true
   },
   "outputs": [
    {
     "name": "stdout",
     "output_type": "stream",
     "text": [
      "Введите глубину фрактала: 4\n",
      "--- 71.53369617462158 s ---\n"
     ]
    }
   ],
   "source": [
    "#кривая Гильберта \n",
    "n = int(input('Введите глубину фрактала: '))\n",
    "def hilbert_line(n, a, ln):\n",
    "    if n == 0:\n",
    "        return\n",
    "    \n",
    "    t.right(a)\n",
    "    hilbert_line(n-1, -a, ln)\n",
    "  \n",
    "    t.fd(ln)\n",
    "    t.left(a)\n",
    "    hilbert_line(n-1, a, ln)\n",
    "  \n",
    "    t.fd(ln)\n",
    "    hilbert_line(n-1, a, ln)\n",
    "  \n",
    "    t.left(a)\n",
    "    t.fd(ln)\n",
    "    hilbert_line(n-1, -a, ln)\n",
    "    t.right(a)\n",
    "    \n",
    "    \n",
    "t = turtle.Turtle()\n",
    "t.ht()\n",
    "    \n",
    "start_time = time.time()\n",
    "hilbert_line(n, 90, 10)\n",
    "print(\"--- %s s ---\" % (time.time() - start_time))\n",
    "\n",
    "turtle.done()"
   ]
  },
  {
   "cell_type": "code",
   "execution_count": null,
   "metadata": {},
   "outputs": [],
   "source": [
    "import turtle\n",
    "import time"
   ]
  },
  {
   "cell_type": "code",
   "execution_count": null,
   "metadata": {},
   "outputs": [
    {
     "name": "stdout",
     "output_type": "stream",
     "text": [
      "Введите глубину фрактала: 4\n",
      "--- 169.9340798854828 s ---\n"
     ]
    }
   ],
   "source": [
    "#кривая Серпинского\n",
    "n = int(input('Введите глубину фрактала: '))\n",
    "def half_sierpinski_line(ln, n):\n",
    "    if n == 0:\n",
    "        return\n",
    "    half_sierpinski_line(ln, n-1)\n",
    "    t.left(45)\n",
    "    t.fd(ln*(2**(0.5)))\n",
    "    t.left(45)\n",
    "    half_sierpinski_line(ln, n-1)\n",
    "    t.right(90)\n",
    "    t.fd(ln)\n",
    "    t.right(90)\n",
    "    half_sierpinski_line(ln, n-1)\n",
    "    t.left(45)\n",
    "    t.fd(ln*(2**(0.5)))\n",
    "    t.left(45)\n",
    "    half_sierpinski_line(ln, n-1)\n",
    "    \n",
    "def sierpinski_line(ln, n):\n",
    "    half_sierpinski_line(ln, n)\n",
    "    t.right(90)\n",
    "    t.fd(ln)\n",
    "    t.right(90)\n",
    "    half_sierpinski_line(ln, n)\n",
    "    t.right(90)\n",
    "    t.fd(ln)\n",
    "    t.right(90)\n",
    "    \n",
    "    \n",
    "t = turtle.Turtle()\n",
    "t.ht()\n",
    "\n",
    "start_time = time.time()\n",
    "sierpinski_line(10, n)\n",
    "print(\"--- %s s ---\" % (time.time() - start_time))\n",
    "\n",
    "turtle.done()"
   ]
  },
  {
   "cell_type": "code",
   "execution_count": 1,
   "metadata": {},
   "outputs": [],
   "source": [
    "import turtle\n",
    "import time"
   ]
  },
  {
   "cell_type": "code",
   "execution_count": null,
   "metadata": {},
   "outputs": [
    {
     "name": "stdout",
     "output_type": "stream",
     "text": [
      "Введите глубину фрактала: 4\n",
      "--- 28.984238147735596 s ---\n"
     ]
    }
   ],
   "source": [
    "#салфетка Серпинского\n",
    "n = int(input('Введите глубину фрактала: '))\n",
    "def sierpinski(ln, n):\n",
    "    if n == 0:\n",
    "        t.stamp()\n",
    "    else:\n",
    "        for i in range(0, 3):\n",
    "            t.fd(ln)\n",
    "            sierpinski(ln/2, n-1)\n",
    "            t.bk(ln)\n",
    "            t.left(120)\n",
    "            \n",
    "            \n",
    "t = turtle.Turtle()\n",
    "\n",
    "t.right(30)\n",
    "t.pu()\n",
    "t.ht()\n",
    "\n",
    "t.shape('triangle')\n",
    "    \n",
    "start_time = time.time()\n",
    "sierpinski(100, n)\n",
    "print(\"--- %s s ---\" % (time.time() - start_time))\n",
    "\n",
    "turtle.done()"
   ]
  },
  {
   "cell_type": "code",
   "execution_count": 4,
   "metadata": {},
   "outputs": [],
   "source": [
    "import turtle\n",
    "import time"
   ]
  },
  {
   "cell_type": "code",
   "execution_count": null,
   "metadata": {
    "scrolled": false
   },
   "outputs": [
    {
     "name": "stdout",
     "output_type": "stream",
     "text": [
      "Введите глубину фрактала: 4\n",
      "--- 5815.7194480896 s ---\n"
     ]
    }
   ],
   "source": [
    "#ковер Серпинского\n",
    "n = int(input('Введите глубину фрактала: '))\n",
    "def sierpinski_carpet(n, m):\n",
    "    if n == 0: #при нуле создается черный квадрат\n",
    "        t.color('black')\n",
    "        t.begin_fill()\n",
    "        for i in range(4):\n",
    "            t.forward(m)\n",
    "            t.left(90)\n",
    "        t.end_fill()\n",
    "    else:\n",
    "        for i in range(4):\n",
    "            sierpinski_carpet(n-1, m/3)\n",
    "            t.forward(m/3)\n",
    " \n",
    "            sierpinski_carpet(n-1, m/3)\n",
    "            t.forward(m/3)\n",
    " \n",
    "            t.forward(m/3)\n",
    "            t.left(90)\n",
    "\n",
    "        \n",
    "t = turtle.Turtle()\n",
    "t.ht()\n",
    "\n",
    "start_time = time.time()\n",
    "sierpinski_carpet(n, 100)\n",
    "print(\"--- %s s ---\" % (time.time() - start_time))\n",
    "\n",
    "turtle.done()"
   ]
  },
  {
   "cell_type": "code",
   "execution_count": 1,
   "metadata": {},
   "outputs": [],
   "source": [
    "import turtle\n",
    "import time"
   ]
  },
  {
   "cell_type": "code",
   "execution_count": null,
   "metadata": {},
   "outputs": [
    {
     "name": "stdout",
     "output_type": "stream",
     "text": [
      "Введите глубину фрактала: 4\n",
      "--- 45.91880702972412 s ---\n"
     ]
    }
   ],
   "source": [
    "#дерево Пифагора\n",
    "import turtle\n",
    "n = int(input('Введите глубину фрактала: '))\n",
    "def pythagoras_tree(ln, n): \n",
    "    if n <= 0 :  \n",
    "        t.fd(ln) \n",
    "    else:\n",
    "        t.right(135)\n",
    "        t.fd((ln*ln/2)**(0.5))\n",
    "        t.left(90)\n",
    "        pythagoras_tree(((ln*ln/2)**(0.5)), n-1)\n",
    "        t.left(90)\n",
    "        t.fd((ln*ln/2)**(0.5))\n",
    "        t.left(90)\n",
    "        t.fd((ln*ln/2)**(0.5))\n",
    "        t.right(135)\n",
    "        \n",
    "        t.fd(ln)\n",
    "        \n",
    "        t.right(135)\n",
    "        t.fd((ln*ln/2)**(0.5))\n",
    "        t.left(90)\n",
    "        t.fd((ln*ln/2)**(0.5))\n",
    "        t.left(90)\n",
    "        pythagoras_tree(((ln*ln/2)**(0.5)), n-1)\n",
    "        t.left(90)\n",
    "        t.fd((ln*ln/2)**(0.5))\n",
    "        t.right(135)\n",
    "        \n",
    "def carre(ln, n):\n",
    "    t.fd(ln)\n",
    "    t.left(90)\n",
    "    t.fd(ln)\n",
    "    t.left(90)\n",
    "    pythagoras_tree(ln, n)\n",
    "    t.left(90)\n",
    "    t.fd(ln)\n",
    "\n",
    "        \n",
    "t = turtle.Turtle()\n",
    "t.ht()\n",
    "\n",
    "start_time = time.time()\n",
    "carre(100, n)\n",
    "print(\"--- %s s ---\" % (time.time() - start_time))\n",
    "\n",
    "turtle.done()"
   ]
  },
  {
   "cell_type": "code",
   "execution_count": 1,
   "metadata": {},
   "outputs": [
    {
     "data": {
      "text/html": [
       "<div>\n",
       "<style scoped>\n",
       "    .dataframe tbody tr th:only-of-type {\n",
       "        vertical-align: middle;\n",
       "    }\n",
       "\n",
       "    .dataframe tbody tr th {\n",
       "        vertical-align: top;\n",
       "    }\n",
       "\n",
       "    .dataframe thead th {\n",
       "        text-align: right;\n",
       "    }\n",
       "</style>\n",
       "<table border=\"1\" class=\"dataframe\">\n",
       "  <thead>\n",
       "    <tr style=\"text-align: right;\">\n",
       "      <th></th>\n",
       "      <th>Фрактал</th>\n",
       "      <th>Глубина = 1</th>\n",
       "      <th>Глубина = 2</th>\n",
       "      <th>Глубина = 3</th>\n",
       "      <th>Глубина = 4</th>\n",
       "    </tr>\n",
       "  </thead>\n",
       "  <tbody>\n",
       "    <tr>\n",
       "      <th>0</th>\n",
       "      <td>Кривая Коха</td>\n",
       "      <td>0.919 sec</td>\n",
       "      <td>3.119 sec</td>\n",
       "      <td>11.832 sec</td>\n",
       "      <td>48.268 sec</td>\n",
       "    </tr>\n",
       "    <tr>\n",
       "      <th>1</th>\n",
       "      <td>Кривая Гильберта</td>\n",
       "      <td>0.785 sec</td>\n",
       "      <td>4.118 sec</td>\n",
       "      <td>17.602 sec</td>\n",
       "      <td>71.533 sec</td>\n",
       "    </tr>\n",
       "    <tr>\n",
       "      <th>2</th>\n",
       "      <td>Кривая Серпинского</td>\n",
       "      <td>2.683 sec</td>\n",
       "      <td>10.284 sec</td>\n",
       "      <td>42.467 sec</td>\n",
       "      <td>169.934 sec</td>\n",
       "    </tr>\n",
       "    <tr>\n",
       "      <th>3</th>\n",
       "      <td>Салфетка Серпинского</td>\n",
       "      <td>1.168 sec</td>\n",
       "      <td>3.827 sec</td>\n",
       "      <td>10.612 sec</td>\n",
       "      <td>28.984 sec</td>\n",
       "    </tr>\n",
       "    <tr>\n",
       "      <th>4</th>\n",
       "      <td>Ковер Серпинского</td>\n",
       "      <td>9.785 sec</td>\n",
       "      <td>68.686 sec</td>\n",
       "      <td>552.491 sec</td>\n",
       "      <td>5815.719 sec</td>\n",
       "    </tr>\n",
       "    <tr>\n",
       "      <th>5</th>\n",
       "      <td>Дерево Пифагора</td>\n",
       "      <td>4.335 sec</td>\n",
       "      <td>10.333 sec</td>\n",
       "      <td>23.349 sec</td>\n",
       "      <td>45.918 sec</td>\n",
       "    </tr>\n",
       "  </tbody>\n",
       "</table>\n",
       "</div>"
      ],
      "text/plain": [
       "                Фрактал Глубина = 1 Глубина = 2  Глубина = 3   Глубина = 4\n",
       "0           Кривая Коха   0.919 sec   3.119 sec   11.832 sec    48.268 sec\n",
       "1      Кривая Гильберта   0.785 sec   4.118 sec   17.602 sec    71.533 sec\n",
       "2    Кривая Серпинского   2.683 sec  10.284 sec   42.467 sec   169.934 sec\n",
       "3  Салфетка Серпинского   1.168 sec   3.827 sec   10.612 sec    28.984 sec\n",
       "4     Ковер Серпинского   9.785 sec  68.686 sec  552.491 sec  5815.719 sec\n",
       "5       Дерево Пифагора   4.335 sec  10.333 sec   23.349 sec    45.918 sec"
      ]
     },
     "execution_count": 1,
     "metadata": {},
     "output_type": "execute_result"
    }
   ],
   "source": [
    "import pandas as pd\n",
    "table = [[\"Кривая Коха\", \"0.919 sec\", \"3.119 sec\", \"11.832 sec\", \"48.268 sec\"],\n",
    "        [\"Кривая Гильберта\", \"0.785 sec\", \"4.118 sec\", \"17.602 sec\", \"71.533 sec\"],\n",
    "        [\"Кривая Серпинского\", \"2.683 sec\", \"10.284 sec\", \"42.467 sec\", \"169.934 sec\"],\n",
    "        [\"Салфетка Серпинского\", \"1.168 sec\", \"3.827 sec\", \"10.612 sec\", \"28.984 sec\"],\n",
    "        [\"Ковер Серпинского\", \"9.785 sec\", \"68.686 sec\", \"552.491 sec\", \"5815.719 sec\"],\n",
    "        [\"Дерево Пифагора\", \"4.335 sec\", \"10.333 sec\", \"23.349 sec\", \"45.918 sec\"]]\n",
    "\n",
    "pd.DataFrame(table, columns=[\"Фрактал\",\"Глубина = 1\", \"Глубина = 2\", \"Глубина = 3\", \"Глубина = 4\"])"
   ]
  },
  {
   "cell_type": "markdown",
   "metadata": {
    "id": "diOb-K7LnO5a"
   },
   "source": [
    "### Вывод"
   ]
  },
  {
   "cell_type": "markdown",
   "metadata": {},
   "source": [
    "В ходе лабораторной работы были изучены рекурсивные функции и построены нескоторые виды фракталов, а также проанализировано время их построениях при разных значениях глубины."
   ]
  }
 ],
 "metadata": {
  "colab": {
   "collapsed_sections": [],
   "name": "Lab5.ipynb",
   "provenance": []
  },
  "kernelspec": {
   "display_name": "Python 3 (ipykernel)",
   "language": "python",
   "name": "python3"
  },
  "language_info": {
   "codemirror_mode": {
    "name": "ipython",
    "version": 3
   },
   "file_extension": ".py",
   "mimetype": "text/x-python",
   "name": "python",
   "nbconvert_exporter": "python",
   "pygments_lexer": "ipython3",
   "version": "3.9.7"
  }
 },
 "nbformat": 4,
 "nbformat_minor": 1
}
