{
 "cells": [
  {
   "cell_type": "markdown",
   "id": "db4b50f0",
   "metadata": {},
   "source": [
    "# Лабораторная работа №3\n",
    "## Выполнила студентка группы БФИ2001 Щеголькова Д.Г."
   ]
  },
  {
   "cell_type": "markdown",
   "id": "annual-symbol",
   "metadata": {},
   "source": [
    "### Оглавление\n",
    "1. [Задание 1](#Задание-№1)\n",
    "2. [Задание 2](#Задание-№2)\n",
    "4. [Вывод](#Вывод)"
   ]
  },
  {
   "cell_type": "markdown",
   "id": "independent-spirit",
   "metadata": {},
   "source": [
    "> Дополнительные модули, использованные при выполнение лабораторной"
   ]
  },
  {
   "cell_type": "code",
   "execution_count": 4,
   "id": "4839be2b",
   "metadata": {},
   "outputs": [],
   "source": [
    "# Необходим при замере скорости выполнения кода\n",
    "from datetime import datetime as t\n",
    "# Нужен для создания словаря в алг. Бойера-Мура\n",
    "from collections import defaultdict\n",
    "\n",
    "import time"
   ]
  },
  {
   "cell_type": "markdown",
   "id": "inclusive-motorcycle",
   "metadata": {},
   "source": [
    "### Задание №1\n",
    "Реализовать методы поиска подстроки в строке. Добавить возможность ввода строки и подстроки с клавиатуры. Предусмотреть возможность существования пробела. Реализовать возможность выбора опции чувствительности или нечувствительности к регистру. Оценить время работы каждого алгоритма поиска и сравнить его со временем работы стандартной функции поиска, используемой в выбранном языке программирования."
   ]
  },
  {
   "cell_type": "markdown",
   "id": "interracial-communication",
   "metadata": {},
   "source": [
    "#### Алгоритм Кнута-Морриса-Пратта"
   ]
  },
  {
   "cell_type": "code",
   "execution_count": 5,
   "id": "presidential-level",
   "metadata": {
    "scrolled": true
   },
   "outputs": [
    {
     "name": "stdout",
     "output_type": "stream",
     "text": [
      "Введите строку: привет да меня зовут Даша\n",
      "Введите то, что хотите найти в строке: даша\n",
      "Желаете искать точное совпадение с регистром? Введите да/нет: нет\n",
      "Подстрока найдена по индексу:  21\n",
      "Duration: 0:00:00.000615\n"
     ]
    }
   ],
   "source": [
    "#ввод строки и подстроки с клавиатуры\n",
    "text = input('Введите строку: ')\n",
    "sub_text = input('Введите то, что хотите найти в строке: ')\n",
    "\n",
    "#возможность выбора опции чувствительности\n",
    "sense = input('Желаете искать точное совпадение с регистром? Введите да/нет: ')\n",
    "if (sense == \"нет\") | (sense == \"Нет\"):\n",
    "    text = text.lower()\n",
    "    sub_text = sub_text.lower()\n",
    "\n",
    "#алгоритм кнута-морриса-пратта\n",
    "def prefix_function(text):\n",
    "    n = len(text)\n",
    "    pi = [0] * n  #префикс-функция, изначально заполнена нулями\n",
    "    for i in range(1, n):\n",
    "        j = pi[i-1]\n",
    "        while j > 0 and text[j] != text[i]:\n",
    "            j = pi[j-1]\n",
    "        if text[i] == text[j]:\n",
    "            j += 1\n",
    "        pi[i] = j\n",
    "    return pi\n",
    "\n",
    "\n",
    "def kmp_search(text, sub_text, start_index=0):\n",
    "    j = 0  #индекс первого элемента в подстроке\n",
    "    pi = prefix_function(sub_text)  #вычисляем префикс-функцию\n",
    "    for i in range(start_index, len(text)):\n",
    "        while j > 0 and text[i] != sub_text[j]:\n",
    "            j = pi[j-1]\n",
    "        if text[i] == sub_text[j]:\n",
    "            j += 1\n",
    "        if j >= len(sub_text):\n",
    "            return i - j + 1\n",
    "    return None\n",
    "\n",
    "start_time = t.now()\n",
    "print('Подстрока найдена по индексу: ', kmp_search(text, sub_text, 0))\n",
    "\n",
    "end_time = t.now()\n",
    "print('Duration: {}'.format(end_time - start_time))"
   ]
  },
  {
   "cell_type": "markdown",
   "id": "downtown-option",
   "metadata": {},
   "source": [
    "#### Упрощенный алгоритм Бойера-Мура"
   ]
  },
  {
   "cell_type": "code",
   "execution_count": 9,
   "id": "respective-reggae",
   "metadata": {
    "scrolled": true
   },
   "outputs": [
    {
     "name": "stdout",
     "output_type": "stream",
     "text": [
      "Введите строку: привет да меня зовут Даша\n",
      "Введите то, что хотите найти в строке: даша\n",
      "Желаете искать точное совпадение с регистром? Введите да/нет: нет\n",
      "{'ш': 1, 'а': 2, 'д': 3, '*': 4}\n",
      "Подстрока найдена по индексу: 21\n",
      "Duration: 0:00:00.001337\n"
     ]
    }
   ],
   "source": [
    "#ввод строки и подстроки с клавиатуры\n",
    "text = input('Введите строку: ')\n",
    "sub_text = input('Введите то, что хотите найти в строке: ')\n",
    "\n",
    "#возможность выбора опции чувствительности\n",
    "sense = input('Желаете искать точное совпадение с регистром? Введите да/нет: ')\n",
    "if (sense == \"нет\") | (sense == \"Нет\"):\n",
    "    text = text.lower()\n",
    "    sub_text = sub_text.lower()\n",
    "\n",
    "start_time = t.now()\n",
    "\n",
    "#упрощенный алгоритм бойера-мура\n",
    "\n",
    "#формирование таблицы смещений\n",
    "S = set()           #уникальные символы в образе\n",
    "M = len(sub_text)   #число символов в образе\n",
    "d = {}              #словарь смещений\n",
    "\n",
    "for i in range(M-2, -1, -1):  #итерации с предпоследнего символа\n",
    "    if sub_text[i] not in S:  #если символ еще не добавлен в таблицу\n",
    "        d[sub_text[i]] = M-i-1\n",
    "        S.add(sub_text[i])\n",
    "\n",
    "if sub_text[M-1] not in S: #отдельно формируем последний символ\n",
    "    d[sub_text[M-1]] = M\n",
    "\n",
    "d['*'] = M #смещения для прочих символов (равно длине слова)\n",
    "\n",
    "print(d)\n",
    "\n",
    "#поиск образа в строке\n",
    "N = len(text)\n",
    "if N >= M:\n",
    "    i = M-1  #счетчик проверяемого символа в строке\n",
    "    while(i < N):\n",
    "        k = 0\n",
    "        j = 0\n",
    "        flBreak = False\n",
    "        for j in range(M-1, -1, -1):\n",
    "            if text[i-k] != sub_text[j]:\n",
    "                if j == M-1:\n",
    "                    off = d[text[i]] if d.get(text[i], False) else d['*']  #смещение, если не равен последний символ образа\n",
    "                else:\n",
    "                    off = d[sub_text[j]]  #смещение, если не равен не последний символ образа\n",
    "                i += off  #смещение счетчика строки\n",
    "                flBreak = True  #если несовпадение символа, то flBreak = True\n",
    "                break\n",
    "            k += 1  #смещение для сравниваемого символа в строке\n",
    "        if not flBreak:  #если дошли до начала образа, значит, все его символы совпали\n",
    "            print(f\"Подстрока найдена по индексу: {i-k+1}\")\n",
    "            break\n",
    "    else:\n",
    "        print(\"Подстрока не найдена\")\n",
    "else:\n",
    "    print(\"Подстрока не найдена\")  #если подстрока длиннее строки\n",
    "    \n",
    "end_time = t.now()\n",
    "print('Duration: {}'.format(end_time - start_time))"
   ]
  },
  {
   "cell_type": "markdown",
   "id": "823f26de",
   "metadata": {},
   "source": [
    "#### Стандартная функция поиска"
   ]
  },
  {
   "cell_type": "code",
   "execution_count": 7,
   "id": "4a55063b",
   "metadata": {},
   "outputs": [
    {
     "name": "stdout",
     "output_type": "stream",
     "text": [
      "Введите строку: привет да меня зовут Даша\n",
      "Введите то, что хотите найти в строке: даша\n",
      "Желаете искать точное совпадение с регистром? Введите да/нет: нет\n",
      "Подстрока найдена по индексу: 21\n",
      "Duration: 0:00:00.000275\n"
     ]
    }
   ],
   "source": [
    "#ввод строки и подстроки с клавиатуры\n",
    "text = input('Введите строку: ')\n",
    "sub_text = input('Введите то, что хотите найти в строке: ')\n",
    "\n",
    "#возможность выбора опции чувствительности\n",
    "sense = input('Желаете искать точное совпадение с регистром? Введите да/нет: ')\n",
    "if (sense == \"нет\") | (sense == \"Нет\"):\n",
    "    text = text.lower()\n",
    "    sub_text = sub_text.lower()\n",
    "\n",
    "start_time = t.now()\n",
    "print ('Подстрока найдена по индексу:', text.find(sub_text))\n",
    "end_time = t.now()\n",
    "print('Duration: {}'.format(end_time - start_time))"
   ]
  },
  {
   "cell_type": "markdown",
   "id": "hybrid-memorial",
   "metadata": {},
   "source": [
    "### Задание №2\n",
    "Написать программу, определяющую, является ли данное\n",
    "расположение «решаемым», то есть можно ли из него за конечное число\n",
    "шагов перейти к правильному. Если это возможно, то необходимо найти хотя\n",
    "бы одно решение - последовательность движений, после которой числа будут\n",
    "расположены в правильном порядке.\n",
    "#### Входные данные: массив чисел, представляющий собой расстановку в\n",
    "Порядке «слева направо, сверху вниз». Число 0 обозначает пустое поле.\n",
    "Например, массив [1, 2, 3, 4, 5, 6, 7, 8, 9, 10, 11, 12, 13, 14, 15, 0] представляет\n",
    "собой «решенную» позицию элементов.\n",
    "#### Выходные данные: если решения нет, то функция должна вернуть\n",
    "Пустой массив []. Если решение есть, то необходимо представить решение —\n",
    "для каждого шага записывается номер передвигаемого на данном шаге\n",
    "элемента. "
   ]
  },
  {
   "cell_type": "code",
   "execution_count": 2,
   "id": "eleven-generic",
   "metadata": {},
   "outputs": [
    {
     "name": "stdout",
     "output_type": "stream",
     "text": [
      "  1  2  3  4\n",
      "  5  6  7  8\n",
      "  9 10 12 15\n",
      " 13 14 11  0\n",
      "\n",
      "[15, 12, 11, 15]\n"
     ]
    }
   ],
   "source": [
    "from queue import PriorityQueue\n",
    "\n",
    "N = 4\n",
    "\n",
    "#Функция, определяющая движение пятнашек\n",
    "def moves(position):\n",
    "    blank = position.index(0)  #blank равен индексу элемента 0\n",
    "    i, j = divmod(blank, N)  #возвращает пару частное-остаток\n",
    "    offsets = []\n",
    "    if i > 0: offsets.append(-N)      #сдвиг вниз\n",
    "    if i < N - 1: offsets.append(N)   #сдвиг вверх\n",
    "    if j > 0: offsets.append(-1)      #сдвиг вправо\n",
    "    if j < N - 1: offsets.append(1)   #сдвиг влево\n",
    "    for offset in offsets:\n",
    "        swap = blank + offset\n",
    "        yield tuple(position[swap] if x == blank else position[blank] if x == swap else position[x] for x in range(N*N))\n",
    "\n",
    "#Функция, определяющая есть ли у пятнашек конечное решение\n",
    "def parity(permutation):\n",
    "    seen, cycles = set(), 0  #уникальные элементы\n",
    "    for i in permutation:  #перебор в перестановках\n",
    "        if i not in seen:\n",
    "            cycles += 1\n",
    "            while i not in seen:\n",
    "                seen.add(i)\n",
    "                i = permutation[i]\n",
    "    return (cycles + len(permutation)) % 2\n",
    "\n",
    "\n",
    "class Position:\n",
    "    #Функция, принимающая позицию и начальную дистанцию\n",
    "    def __init__(self, position, start_distance):\n",
    "        self.position = position\n",
    "        self.start_distance = start_distance\n",
    "\n",
    "    #Функция, срабатывающая при сравнении объекта с другим объектом\n",
    "    def __lt__(self, other):\n",
    "        return self.start_distance < other.start_distance\n",
    "\n",
    "    #Функция, срабатывающая при использовании объекта как строки\n",
    "    def __str__(self):\n",
    "        return '\\n'.join((N*'{:3}').format(*[i%(N*N) for i in self.position[i:]]) #\n",
    "\n",
    "for i in range(0, N*N, N))\n",
    "SOLVED = (1, 2, 3, 4, 5, 6, 7, 8, 9, 10, 11, 12, 13, 14, 15, 0)\n",
    "start = [1, 2, 3, 4, 5, 6, 7, 8, 9, 10, 12, 15, 13, 14, 11, 0]\n",
    "\n",
    "#Проверяем, можно ли в данной расстановке найти решение\n",
    "if parity(start) == 0:\n",
    "    print('[]')\n",
    "else:\n",
    "    start = tuple(start)  #создаем кортеж(неизменяемый список)\n",
    "\n",
    "    p = Position(start, 0)\n",
    "\n",
    "    print(p)\n",
    "    print()\n",
    "\n",
    "    #Передаем в очередь с приоритетом первоначальную позицию\n",
    "    candidates = PriorityQueue()  #конструктор для приоритетной очереди\n",
    "    candidates.put(p)\n",
    "\n",
    "    #Кортеж посещенных позиций\n",
    "    visited = set([p])\n",
    "\n",
    "    came_from = {p.position: None}\n",
    "    \n",
    "    while p.position != SOLVED:\n",
    "        #Извлекаем из очереди позицию с наименьшим приоритетом\n",
    "        p = candidates.get()\n",
    "        #Кладем в очередь все соседние позиции. Повторяем пока не вытащим конечную позицию из очереди\n",
    "        for k in moves(p.position):\n",
    "            if k not in visited:\n",
    "                candidates.put(Position(k, p.start_distance + 1))\n",
    "                came_from[k] = p\n",
    "                visited.add(k)\n",
    "\n",
    "    #Последовательное решение пятнашек\n",
    "    path = []\n",
    "    #Конечная позиция\n",
    "    prev = p\n",
    "    #Идем в обратном порядке и запоминаем очередность хода в path\n",
    "    while p.position != start:\n",
    "        #Запоминаем откуда ход\n",
    "        p = came_from[p.position]\n",
    "        number = p.position[prev.position.index(0)]\n",
    "        path.append(number)\n",
    "        prev = p\n",
    "    path.reverse()\n",
    "\n",
    "    print(path)"
   ]
  },
  {
   "cell_type": "markdown",
   "id": "arbitrary-amazon",
   "metadata": {},
   "source": [
    "### Вывод"
   ]
  },
  {
   "cell_type": "markdown",
   "id": "6d44e6d6",
   "metadata": {},
   "source": [
    "В ходе данной лабораторной работы я познакомилась с такими алгоритмами поиска как алгоритм Кнута-Морриса-Пратта, алгоритм Бойера-Мура, а также со стандартной функцией поиска. В результате исследования, самым быстрым методом поиска оказалась стандартная функция поиска."
   ]
  },
  {
   "cell_type": "markdown",
   "id": "71bc58bf",
   "metadata": {},
   "source": []
  }
 ],
 "metadata": {
  "kernelspec": {
   "display_name": "Python 3 (ipykernel)",
   "language": "python",
   "name": "python3"
  },
  "language_info": {
   "codemirror_mode": {
    "name": "ipython",
    "version": 3
   },
   "file_extension": ".py",
   "mimetype": "text/x-python",
   "name": "python",
   "nbconvert_exporter": "python",
   "pygments_lexer": "ipython3",
   "version": "3.9.7"
  }
 },
 "nbformat": 4,
 "nbformat_minor": 5
}
