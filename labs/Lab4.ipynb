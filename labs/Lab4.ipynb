{
 "cells": [
  {
   "cell_type": "markdown",
   "id": "fifteen-sailing",
   "metadata": {},
   "source": [
    "# Лабораторная работа №4\n",
    "## Выполнил студент группы ФИО ГРУППА"
   ]
  },
  {
   "cell_type": "markdown",
   "id": "arctic-stocks",
   "metadata": {},
   "source": [
    "Реализовать следующие структуры данных:\n",
    "  \n",
    "● <b> Стек (stack): </b>  \n",
    "Операции для стека: \n",
    "<i> инициализация, проверка на пустоту, добавление нового элемента в начало, извлечение элемента из начала;  </i>  \n",
    "  \n",
    "● <b> Дек (двусторонняя очередь, deque):  </b>  \n",
    "Операции для дека: \n",
    "<i> инициализация, проверка на пустоту, добавление нового элемента в начало, добавление нового элемента в конец, извлечение элемента из начала, извлечение элемента из конца. </i>  \n",
    "  \n",
    "<i> Разработать программу обработки данных, содержащихся в заранее подготовленном txt-файле, в соответствии с заданиями, применив указанную в задании структуру данных. Результат работы программы вывести на экран и сохранить в отдельном txt-файле. </i>"
   ]
  },
  {
   "cell_type": "code",
   "execution_count": 2,
   "id": "46351664",
   "metadata": {},
   "outputs": [],
   "source": [
    "#связный список с ссылками на обратный и следующий элемент\n",
    "class LinkedNode:\n",
    "    def __init__(self, value = None):\n",
    "        self.value = value\n",
    "        self.right = None\n",
    "        self.left = None"
   ]
  },
  {
   "cell_type": "code",
   "execution_count": 3,
   "id": "b7da4055",
   "metadata": {},
   "outputs": [],
   "source": [
    "class Stack:\n",
    "    #инициализация стека\n",
    "    def __init__(self):\n",
    "        self.head = LinkedNode()\n",
    "        self.size = 0\n",
    "        \n",
    "    #проверка на пустоту\n",
    "    def is_empty(self):\n",
    "        return self.size == 0\n",
    "\n",
    "    #добавление нового элемента\n",
    "    def push(self, value):\n",
    "        if self.size > 0:\n",
    "            node = LinkedNode(value)\n",
    "            node.right = self.head\n",
    "            self.head = node\n",
    "        else:\n",
    "            self.head.value = value\n",
    "        self.size += 1\n",
    "      \n",
    "    #удаление элемента\n",
    "    def pop(self):\n",
    "        if self.is_empty():\n",
    "            raise Exception(\"Popping from an empty stack\")\n",
    "        remove = self.head\n",
    "        if self.size > 1:\n",
    "            self.head = remove.right\n",
    "        self.size -= 1\n",
    "        return remove.value\n",
    "    \n",
    "    #извлечение элемента\n",
    "    def peek(self):\n",
    "        if self.is_empty():\n",
    "            raise Exception(\"Popping from an empty stack\")\n",
    "        return self.head.value\n",
    "    \n",
    "    def __len__(self):\n",
    "        return self.size\n",
    "    \n",
    "    def reverse(self):\n",
    "        current = self.head\n",
    "        prev = None\n",
    "        next = None\n",
    "        while current is not None:\n",
    "            next = current.right\n",
    "            current.right = prev\n",
    "            prev = current\n",
    "            current = next\n",
    "        self.head = prev"
   ]
  },
  {
   "cell_type": "code",
   "execution_count": 4,
   "id": "3aa71b80",
   "metadata": {},
   "outputs": [],
   "source": [
    "class Deque:\n",
    "    #инициализация дека\n",
    "    def __init__(self):\n",
    "        self.head = LinkedNode()\n",
    "        self.tail = self.head\n",
    "        self.size = 0\n",
    "    \n",
    "    #проверка на пустоту\n",
    "    def is_empty(self):\n",
    "        return self.size == 0\n",
    "\n",
    "    #добавление нового элемента в начало\n",
    "    def push_left(self, value):\n",
    "        if self.size > 0:\n",
    "            node = LinkedNode(value)\n",
    "            node.right = self.tail\n",
    "            self.tail.left = node\n",
    "            self.tail = node\n",
    "        else:\n",
    "            self.tail.value = value\n",
    "        self.size += 1\n",
    "\n",
    "    #добавление нового элемента в конец\n",
    "    def push(self, value):\n",
    "        if self.size > 0:\n",
    "            node = LinkedNode(value)\n",
    "            node.left = self.head\n",
    "            self.head.right = node\n",
    "            self.head = node\n",
    "        else:\n",
    "            self.head.value = value\n",
    "        self.size += 1\n",
    "    \n",
    "    #удаление элемента из начала\n",
    "    def pop_left(self):\n",
    "        if self.is_empty():\n",
    "            raise Exception(\"Popping from an empty deque\")\n",
    "        remove = self.tail\n",
    "        if self.size > 1:\n",
    "            self.tail = remove.right\n",
    "        self.size -= 1\n",
    "        return remove.value\n",
    "    \n",
    "    #удаление элемента из конца\n",
    "    def pop(self):\n",
    "        if self.is_empty():\n",
    "            raise Exception(\"Popping from an empty deque\")\n",
    "        remove = self.head\n",
    "        if self.size > 1:\n",
    "            self.head = remove.left\n",
    "        self.size -= 1\n",
    "        return remove.value\n",
    "    \n",
    "    #извлечение элемента из начала\n",
    "    def peek_left(self):\n",
    "        if self.is_empty():\n",
    "            raise Exception(\"Popping from an empty deque\")\n",
    "        return self.tail.value\n",
    "    \n",
    "    #извлечение элемента из конца\n",
    "    def peek(self):\n",
    "        if self.is_empty():\n",
    "            raise Exception(\"Popping from an empty deque\")\n",
    "        return self.head.value\n",
    "\n",
    "    def __len__(self):\n",
    "        return self.size"
   ]
  },
  {
   "cell_type": "markdown",
   "id": "5d7edb08",
   "metadata": {
    "scrolled": true
   },
   "source": [
    "### Задание №1\n",
    "Отсортировать строки файла, содержащие названия книг, в алфавитном порядке с использованием двух деков."
   ]
  },
  {
   "cell_type": "code",
   "execution_count": 7,
   "id": "17702ade",
   "metadata": {
    "scrolled": false
   },
   "outputs": [
    {
     "name": "stdout",
     "output_type": "stream",
     "text": [
      "Алиса в стране чудес\n",
      "\n",
      "Алые паруса\n",
      "\n",
      "Вино из одуванчиков\n",
      "\n",
      "Вишневый сад\n",
      "\n",
      "Война и мир\n",
      "\n",
      "Горе от ума\n",
      "\n",
      "Гулливер в стране лилипутов\n",
      "\n",
      "Евгений Онегин\n",
      "\n",
      "Капитанская дочка\n",
      "\n",
      "Мцыри\n",
      "\n",
      "На дне\n",
      "\n",
      "Недоросль\n",
      "\n",
      "Преступление и наказание\n",
      "\n"
     ]
    }
   ],
   "source": [
    "with open('books.txt', 'r', encoding='utf-8') as books:\n",
    "    d1 = Deque()\n",
    "    d2 = Deque()\n",
    "    for book in books:\n",
    "        d1.push(book) #добавляем книги в первый дек\n",
    "    while not d1.is_empty():\n",
    "        x = d1.pop() #удаляем книгу из первого дека и записываем в х\n",
    "        while not d2.is_empty() and d2.peek() < x: \n",
    "            d1.push_left(d2.pop())\n",
    "        d2.push(x) \n",
    "    while not d2.is_empty():\n",
    "        print(d2.pop())"
   ]
  },
  {
   "cell_type": "markdown",
   "id": "49fbd2a0",
   "metadata": {},
   "source": [
    "### Задание №2\n",
    "Дек содержит последовательность символов для шифровки сообщений. Дан текстовый файл, содержащий зашифрованное сообщение. Пользуясь деком, расшифровать текст. \n",
    "Известно, что при шифровке каждый символ сообщения заменялся следующим за ним в деке по часовой стрелке через один."
   ]
  },
  {
   "cell_type": "code",
   "execution_count": 9,
   "id": "81cab7a8",
   "metadata": {},
   "outputs": [],
   "source": [
    "import random"
   ]
  },
  {
   "cell_type": "code",
   "execution_count": 10,
   "id": "7f127649",
   "metadata": {},
   "outputs": [
    {
     "name": "stdout",
     "output_type": "stream",
     "text": [
      "Алфавит для шифровки:  мвлргсдяеузьоаэтчфёхщцъыишйпжбкню \n",
      "\n",
      "Зашифрованное сообщение:  ьэ набэюивш нгудрэвш — асагабуююип дчунреююап дчуюап жгадчагюип ьэр яре жугусалагал д яршююивш дчарав чувюаса яугулэ ш жа вуюойуп вугу ялэяъэчом чэншвш бу дчзроевш жа канэв. ьэ юшвш анюа ла лдм дчуюз, шь начагаса ачнгилэучде жэюагэвэ дштчрэ яа дэваса ьэршлэ. лшя жачгедэмцшп, ш е юэ всюалуюшу ьэвшгэм, афэгалэююэе. ьяагала! \n",
      "\n",
      "Расшифрованное сообщение:  за кожаными креслами — огороженный стеклянной стеной просторный зал для переговоров с длинными столом темного дерева и по меньшей мере двадцатью такими же стульями по бокам. за ними окно во всю стену, из которого открывается панорама сиэтла до самого залива. вид потрясающий, и я на мгновение замираю, очарованная. здорово! \n",
      "\n"
     ]
    }
   ],
   "source": [
    "alphabet = list('абвгдеёжзийклмнопрстуфхцчшщъыьэюя')\n",
    "random.shuffle(alphabet)\n",
    "alphabet = ''.join(alphabet)\n",
    "print(\"Алфавит для шифровки: \", alphabet, \"\\n\")\n",
    "\n",
    "key = Deque()\n",
    "for letter in alphabet:\n",
    "    key.push(letter) #добавляем буквы в дек\n",
    "    \n",
    "#для кодирования сообщения\n",
    "def encode_char(c):\n",
    "    for i in range(len(key)):\n",
    "        x = key.pop_left() #вытаскиваем букву из дека и проверяем\n",
    "        if x == c:\n",
    "            key.push(x)\n",
    "            val = key.pop_left()\n",
    "            key.push(val)\n",
    "            return val\n",
    "        key.push(x)\n",
    "\n",
    "#для декодрования сообщения\n",
    "def decode_char(c):\n",
    "    for i in range(len(key)):\n",
    "        x = key.pop()\n",
    "        if x == c:\n",
    "            key.push_left(x)\n",
    "            val = key.pop()\n",
    "            key.push_left(val)\n",
    "            return val\n",
    "        key.push_left(x)\n",
    "        \n",
    "data = open('cipher.txt') #открываем файл с текстом\n",
    "text = data.read().lower() #записываем текст в переменную text, делая все символы нижнего регистра\n",
    "\n",
    "encoded = ''\n",
    "for letter in text:\n",
    "    if encoded_letter := encode_char(letter):\n",
    "        encoded += encoded_letter\n",
    "    else:\n",
    "        encoded += letter\n",
    "\n",
    "print(\"Зашифрованное сообщение: \", encoded, \"\\n\")\n",
    "\n",
    "decoded = ''\n",
    "for letter in encoded:\n",
    "    if decoded_letter := decode_char(letter):\n",
    "        decoded += decoded_letter\n",
    "    else:\n",
    "        decoded += letter\n",
    "        \n",
    "print(\"Расшифрованное сообщение: \", decoded, \"\\n\")"
   ]
  },
  {
   "cell_type": "markdown",
   "id": "c0894f47",
   "metadata": {},
   "source": [
    "### Задание №3\n",
    "Даны три стержня и n дисков различного размера. Диски можно надевать на стержни, образуя из них башни. Перенести n дисков со стержня А на стержень С, сохранив их первоначальный порядок. При переносе дисков необходимо соблюдать следующие правила:\n",
    "- на каждом шаге со стержня на стержень переносить только один диск;\n",
    "- диск нельзя помещать на диск меньшего размера;\n",
    "- для промежуточного хранения можно использовать стержень В.\n",
    "Реализовать алгоритм, используя три стека вместо стержней А, В, С. Информация о дисках хранится в исходном файле."
   ]
  },
  {
   "cell_type": "code",
   "execution_count": 23,
   "id": "9e91a9d4",
   "metadata": {},
   "outputs": [
    {
     "name": "stdout",
     "output_type": "stream",
     "text": [
      "Введите количество дисков(n): 14\n",
      "1\n",
      "2\n",
      "3\n",
      "4\n",
      "5\n",
      "6\n",
      "7\n",
      "8\n",
      "9\n",
      "10\n",
      "11\n",
      "12\n",
      "13\n",
      "14\n"
     ]
    }
   ],
   "source": [
    "A = Stack()\n",
    "B = Stack()\n",
    "C = Stack()\n",
    "\n",
    "disks = int(input('Введите количество дисков(n): '))\n",
    "\n",
    "for i in range(disks, 0, -1): #добавляем все диски на стержень А\n",
    "    A.push(i)\n",
    "\n",
    "#возможные перемещения дисков\n",
    "def move(a, b):\n",
    "    if len(a) == 0 and len(b) > 0:\n",
    "        a.push(b.pop())\n",
    "    elif len(a) > 0 and len(b) == 0:\n",
    "        b.push(a.pop())\n",
    "    elif a.peek() > b.peek():\n",
    "        a.push(b.pop())\n",
    "    else:\n",
    "        b.push(a.pop())\n",
    "        \n",
    "if disks % 2 == 0:\n",
    "    while len(C) != disks:\n",
    "        move(A, B)\n",
    "        move(A, C)\n",
    "        move(B, C)\n",
    "else:\n",
    "    while len(C) != disks:\n",
    "        move(A, C)\n",
    "        move(A, B)\n",
    "        move(B, C)\n",
    "\n",
    "while not C.is_empty():\n",
    "    print(C.pop())"
   ]
  },
  {
   "cell_type": "markdown",
   "id": "e5b0be17",
   "metadata": {},
   "source": [
    "### Задание №4\n",
    "Дан текстовый файл с программой на алгоритмическом языке. За один просмотр файла проверить баланс круглых скобок в тексте, используя стек."
   ]
  },
  {
   "cell_type": "code",
   "execution_count": 57,
   "id": "5b1df60a",
   "metadata": {},
   "outputs": [
    {
     "name": "stdout",
     "output_type": "stream",
     "text": [
      "True\n",
      "False\n"
     ]
    }
   ],
   "source": [
    "def check_brackets(string):\n",
    "    bracket_stack = Stack()\n",
    "    for i in string:\n",
    "        if i == '(':\n",
    "            bracket_stack.push(i)\n",
    "        elif i == ')':\n",
    "            if bracket_stack.is_empty():\n",
    "                return False\n",
    "            bracket_stack.pop()\n",
    "    return bracket_stack.is_empty()\n",
    "\n",
    "data = open('code1.txt')\n",
    "c1 = data.read()\n",
    "print(check_brackets(c1))\n",
    "\n",
    "data = open('code2.txt')\n",
    "c2 = data.read()\n",
    "print(check_brackets(c2))"
   ]
  },
  {
   "cell_type": "markdown",
   "id": "c44cdd6b",
   "metadata": {},
   "source": [
    "### Задание №5\n",
    "Дан текстовый файл с программой на алгоритмическом языке. За один просмотр файла проверить баланс квадратных скобок в тексте, используя дек."
   ]
  },
  {
   "cell_type": "code",
   "execution_count": 56,
   "id": "36b8f400",
   "metadata": {},
   "outputs": [
    {
     "name": "stdout",
     "output_type": "stream",
     "text": [
      "False\n",
      "True\n"
     ]
    }
   ],
   "source": [
    "def check_square_brackets(string):\n",
    "    bracket_stack = Deque()\n",
    "    for i in string:\n",
    "        if i == '[':\n",
    "            bracket_stack.push(i)\n",
    "        elif i == ']':\n",
    "            if bracket_stack.is_empty():\n",
    "                return False\n",
    "            bracket_stack.pop()\n",
    "    return bracket_stack.is_empty()\n",
    "\n",
    "data = open('code1.txt')\n",
    "c1 = data.read()\n",
    "print(check_square_brackets(c1))\n",
    "\n",
    "data = open('code2.txt')\n",
    "c2 = data.read()\n",
    "print(check_square_brackets(c2))"
   ]
  },
  {
   "cell_type": "markdown",
   "id": "59d13dc7",
   "metadata": {},
   "source": [
    "### Задание №6\n",
    "Дан файл из символов. Используя стек, за один просмотр файла напечатать сначала все цифры, затем все буквы, и, наконец, все остальные символы, сохраняя исходный порядок в каждой группе символов."
   ]
  },
  {
   "cell_type": "code",
   "execution_count": 27,
   "id": "297e36c2",
   "metadata": {},
   "outputs": [
    {
     "name": "stdout",
     "output_type": "stream",
     "text": [
      "4212321213313122113532СравнитечислаПоставьтезнакиНатарелкележалоперсикаСъелиперсикаСколькоперсиковосталосьнатарелке.  .   <, >, =:\n",
      " +  ...   –  ...   –  ... \n",
      " –  ...   +  ...   +  ... \n",
      ".     .   .     ?\n"
     ]
    }
   ],
   "source": [
    "data = open('symbols.txt') #открываем файл\n",
    "text = data.read()\n",
    "\n",
    "#создаем отедльные стеки для букв, цифр и остальных символов\n",
    "letters = Stack()\n",
    "digits = Stack()\n",
    "others = Stack()\n",
    "\n",
    "#проверяем очередной символ и записываем в нужный стек\n",
    "for c in text:\n",
    "    if c.isalpha(): \n",
    "        letters.push(c)\n",
    "    elif c.isdigit():\n",
    "        digits.push(c)\n",
    "    else:\n",
    "        others.push(c)\n",
    "\n",
    "new_text = ''\n",
    "        \n",
    "#переворачиваем каждый стек для сохранения последовательности\n",
    "letters.reverse()\n",
    "digits.reverse()\n",
    "others.reverse()\n",
    "\n",
    "#выводим в нужном порядке - сначала цифры, затем буквы и наконец символы\n",
    "while not digits.is_empty():\n",
    "    new_text += digits.pop()\n",
    "\n",
    "while not letters.is_empty():\n",
    "    new_text += letters.pop()\n",
    "\n",
    "while not others.is_empty():\n",
    "    new_text += others.pop()\n",
    "\n",
    "print(new_text)"
   ]
  },
  {
   "cell_type": "markdown",
   "id": "973f68bd",
   "metadata": {},
   "source": [
    "### Задание №7\n",
    "Дан файл из целых чисел. Используя дек, за один просмотр файла напечатать сначала все отрицательные числа, затем все положительные числа, сохраняя исходный порядок в каждой группе."
   ]
  },
  {
   "cell_type": "code",
   "execution_count": 76,
   "id": "487c9eb2",
   "metadata": {},
   "outputs": [],
   "source": [
    "import numpy as np"
   ]
  },
  {
   "cell_type": "code",
   "execution_count": 82,
   "id": "c56fad66",
   "metadata": {},
   "outputs": [
    {
     "name": "stdout",
     "output_type": "stream",
     "text": [
      "[  5783   9438      7    488   -834  -9439     43     -9    -39     83\n",
      "   8299    -74 -72644     74     10     47    -84     74   -377] \n",
      "\n",
      "-834\n",
      "-9439\n",
      "-9\n",
      "-39\n",
      "-74\n",
      "-72644\n",
      "-84\n",
      "-377\n",
      "5783\n",
      "9438\n",
      "7\n",
      "488\n",
      "43\n",
      "83\n",
      "8299\n",
      "74\n",
      "10\n",
      "47\n",
      "74\n"
     ]
    }
   ],
   "source": [
    "numbers = np.loadtxt(\"numbers.txt\", delimiter='\\t', dtype=np.int32) #извлекаем числа из файла\n",
    "print(numbers, '\\n')\n",
    "\n",
    "deque = Deque()\n",
    "#если число меньше нуля, то записываем в начало дека, если больше - в конец\n",
    "for n in numbers:\n",
    "    if n < 0:\n",
    "        deque.push_left(n)\n",
    "    else:\n",
    "        deque.push(n)\n",
    "\n",
    "while not deque.is_empty():\n",
    "    x = deque.pop_left() #извлекаем число из начала\n",
    "    if x < 0: #если оно меньше нуля, записываем в конец\n",
    "        deque.push(x)\n",
    "    else:\n",
    "        deque.push_left(x) #если нет, то записываем в начало и выходим\n",
    "        break\n",
    "\n",
    "while not deque.is_empty():\n",
    "    x = deque.pop()\n",
    "    if x < 0:\n",
    "        print(x) #отрицательные числа выводим и удаляем из дека\n",
    "    else:\n",
    "        deque.push(x)\n",
    "        break\n",
    "\n",
    "while not deque.is_empty(): #выводим оставшиеся (положительные) числа\n",
    "    print(deque.pop_left())"
   ]
  },
  {
   "cell_type": "markdown",
   "id": "b9228191",
   "metadata": {},
   "source": [
    "### Задание №8\n",
    "Дан текстовый файл. Используя стек, сформировать новый текстовый файл, содержащий строки исходного файла, записанные в обратном порядке: первая строка становится последней, вторая – предпоследней и т.д."
   ]
  },
  {
   "cell_type": "code",
   "execution_count": 83,
   "id": "981fbdfe",
   "metadata": {},
   "outputs": [
    {
     "name": "stdout",
     "output_type": "stream",
     "text": [
      "McDonald's\n",
      "The Coca-Cola Company\n",
      "Pepsi\n",
      "KFC и Pizza Hut\n",
      "Nestle\n",
      "H&M\n",
      "Mango\n",
      "Zara, Bershka и Pull & Bear\n",
      "Adidas\n",
      "Nike\n",
      "Apple\n",
      "Samsung\n",
      "HP\n",
      "Playstation\n",
      "Microsoft\n",
      "Nintendo\n",
      "Intel\n",
      "Nokia\n",
      "\n",
      "Nokia\n",
      "Intel\n",
      "Nintendo\n",
      "Microsoft\n",
      "Playstation\n",
      "HP\n",
      "Samsung\n",
      "Apple\n",
      "Nike\n",
      "Adidas\n",
      "Zara, Bershka и Pull & Bear\n",
      "Mango\n",
      "H&M\n",
      "Nestle\n",
      "KFC и Pizza Hut\n",
      "Pepsi\n",
      "The Coca-Cola Company\n",
      "McDonald's\n"
     ]
    }
   ],
   "source": [
    "with open('companies.txt', 'r') as comp:\n",
    "    stack = Stack()\n",
    "    for c in comp:\n",
    "        c = c.strip() #извлекаем строки и печатаем как в исходном файле\n",
    "        print(c)\n",
    "        stack.push(c) #добавляем строки в стек\n",
    "    print()\n",
    "    while not stack.is_empty():\n",
    "        print(stack.pop()) #выводим стек"
   ]
  },
  {
   "cell_type": "markdown",
   "id": "rental-jerusalem",
   "metadata": {},
   "source": [
    "### Вывод\n"
   ]
  },
  {
   "cell_type": "markdown",
   "id": "d866bbd2",
   "metadata": {},
   "source": [
    "В ходе лабораторной работы были изучены такие структуры данных как стек и дек."
   ]
  },
  {
   "cell_type": "markdown",
   "id": "0c2b8899",
   "metadata": {},
   "source": []
  }
 ],
 "metadata": {
  "kernelspec": {
   "display_name": "Python 3 (ipykernel)",
   "language": "python",
   "name": "python3"
  },
  "language_info": {
   "codemirror_mode": {
    "name": "ipython",
    "version": 3
   },
   "file_extension": ".py",
   "mimetype": "text/x-python",
   "name": "python",
   "nbconvert_exporter": "python",
   "pygments_lexer": "ipython3",
   "version": "3.9.7"
  }
 },
 "nbformat": 4,
 "nbformat_minor": 5
}
