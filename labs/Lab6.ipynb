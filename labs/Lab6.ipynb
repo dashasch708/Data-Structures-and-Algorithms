{
 "cells": [
  {
   "cell_type": "markdown",
   "metadata": {
    "id": "0z3KlfKDn4_K"
   },
   "source": [
    "# Лабораторная работа 6. \n",
    "# Сетевые алгоритмы. Динамические алгоритмы поиска путей.\n"
   ]
  },
  {
   "cell_type": "markdown",
   "metadata": {
    "id": "96Gi_LEvmSVH"
   },
   "source": [
    "## Выполнила студентка группы БФИ2001 Щеголькова Дарья\n",
    "***"
   ]
  },
  {
   "cell_type": "markdown",
   "metadata": {
    "id": "GjdIp8aToKIe"
   },
   "source": [
    "### Задание\n",
    "\n",
    "1.  Реализовать алгоритм поиска кратчайшего расстояния между двумя вершинами ориентированного взвешенного графа в соответствии с вариантом. \n",
    "\n",
    "2.  Предусмотреть задание графа в виде матрицы смежности/инцидентности, читаемой из файла, либо графически с помощью пользовательского интерфейса. \n",
    "\n",
    "3.  Разработать графический интерфейс пользователя с визуализацией графа и отображением кратчайшего расстояния между задаваемыми пользователем вершинами.\n",
    "\n",
    "4. По результатам работы проанализировать временную сложность работы заданного алгоритма в зависимости от числа узлов и ребер графа.\n",
    "Данные представить в виде таблицы.\n",
    "\n"
   ]
  },
  {
   "cell_type": "markdown",
   "metadata": {
    "id": "LhhUXrAmotIA"
   },
   "source": [
    "### Алгоритмы:\n",
    "\n",
    "Алгоритм Флойда-Уоршелла| Алгоритм Дейкстры | Алгоритм Беллмана-Форда | Алгоритм Джонсона| Алгоритм Левита | Алгоритм Йена\n",
    "\n"
   ]
  },
  {
   "cell_type": "markdown",
   "metadata": {
    "id": "Wggfn8l7nG72"
   },
   "source": [
    "### Выполнение:"
   ]
  },
  {
   "cell_type": "code",
   "execution_count": 187,
   "metadata": {
    "scrolled": true
   },
   "outputs": [
    {
     "name": "stdout",
     "output_type": "stream",
     "text": [
      "[[0, 9, inf, 5, inf], [inf, 0, 1, 2, inf], [inf, inf, 0, inf, 1], [inf, 3, 5, 0, 2], [7, inf, 6, inf, 0]]\n"
     ]
    }
   ],
   "source": [
    "#чтение матрицы из файла\n",
    "import math\n",
    "import time\n",
    "import pandas as pd\n",
    "\n",
    "def read_matrix(filename):\n",
    "    f = open(filename, 'r', encoding = \"utf-8\")\n",
    "    matrix = []\n",
    "    for line in f:\n",
    "        node = line.split()\n",
    "        temp = []\n",
    "        for el in node:\n",
    "            if el == 'i':\n",
    "                temp.append(math.inf)\n",
    "            else: \n",
    "                temp.append(int(el))\n",
    "        matrix.append(temp)\n",
    "    f.close()\n",
    "    return matrix\n",
    "\n",
    "g = read_matrix(\"mtrx.txt\")\n",
    "gr = tuple(g)\n",
    "print(g)"
   ]
  },
  {
   "cell_type": "code",
   "execution_count": 188,
   "metadata": {
    "scrolled": true
   },
   "outputs": [
    {
     "name": "stdout",
     "output_type": "stream",
     "text": [
      "Введите начальную вершину: 0\n",
      "Введите конечную вершину: 2\n"
     ]
    }
   ],
   "source": [
    "source = int(input(\"Введите начальную вершину: \"))\n",
    "target = int(input(\"Введите конечную вершину: \"))"
   ]
  },
  {
   "cell_type": "code",
   "execution_count": 189,
   "metadata": {},
   "outputs": [
    {
     "name": "stdout",
     "output_type": "stream",
     "text": [
      "Кратчайшее расстояние =  9\n",
      "--- 0.5140304565429688 ms ---\n"
     ]
    },
    {
     "data": {
      "text/html": [
       "<div>\n",
       "<style scoped>\n",
       "    .dataframe tbody tr th:only-of-type {\n",
       "        vertical-align: middle;\n",
       "    }\n",
       "\n",
       "    .dataframe tbody tr th {\n",
       "        vertical-align: top;\n",
       "    }\n",
       "\n",
       "    .dataframe thead th {\n",
       "        text-align: right;\n",
       "    }\n",
       "</style>\n",
       "<table border=\"1\" class=\"dataframe\">\n",
       "  <thead>\n",
       "    <tr style=\"text-align: right;\">\n",
       "      <th></th>\n",
       "      <th>Количество вершин</th>\n",
       "      <th>Время выполнения, мс</th>\n",
       "    </tr>\n",
       "  </thead>\n",
       "  <tbody>\n",
       "    <tr>\n",
       "      <th>0</th>\n",
       "      <td>4</td>\n",
       "      <td>0.573</td>\n",
       "    </tr>\n",
       "    <tr>\n",
       "      <th>1</th>\n",
       "      <td>5</td>\n",
       "      <td>0.909</td>\n",
       "    </tr>\n",
       "  </tbody>\n",
       "</table>\n",
       "</div>"
      ],
      "text/plain": [
       "  Количество вершин Время выполнения, мс\n",
       "0                 4                0.573\n",
       "1                 5                0.909"
      ]
     },
     "execution_count": 189,
     "metadata": {},
     "output_type": "execute_result"
    }
   ],
   "source": [
    "#алгоритм флойда-уоршелла\n",
    "def floyd_warshall(g, u, v):\n",
    "    N = len(g) #число вершин в графе\n",
    "    P = [[v for v in range(N)] for u in range(N)] #начальный список предыдущих вершин для поиска кратчайших маршрутов\n",
    "\n",
    "    for k in range(N):\n",
    "        for i in range(N):\n",
    "            for j in range(N):\n",
    "                d = g[i][k] + g[k][j]\n",
    "                if g[i][j] > d:\n",
    "                    g[i][j] = d\n",
    "                    P[i][j] = g[i][j] #кратчайшее расстояние при движении от i к j\n",
    "    return P[u][v]\n",
    "\n",
    "start_time = time.time()\n",
    "\n",
    "ans = floyd_warshall(g, source, target)\n",
    "print(\"Кратчайшее расстояние = \", ans)\n",
    "\n",
    "print(\"--- %s ms ---\" % ((time.time() - start_time)*1000))\n",
    "\n",
    "table = [[\"4\", \"0.573\"],\n",
    "        [\"5\", \"0.909\"]]\n",
    "pd.DataFrame(table, columns=[\"Количество вершин\",\"Время выполнения, мс\"])"
   ]
  },
  {
   "cell_type": "code",
   "execution_count": 190,
   "metadata": {},
   "outputs": [
    {
     "name": "stdout",
     "output_type": "stream",
     "text": [
      "Кратчайшее расстояние =  9\n",
      "--- 0.40602684020996094 ms ---\n"
     ]
    },
    {
     "data": {
      "text/html": [
       "<div>\n",
       "<style scoped>\n",
       "    .dataframe tbody tr th:only-of-type {\n",
       "        vertical-align: middle;\n",
       "    }\n",
       "\n",
       "    .dataframe tbody tr th {\n",
       "        vertical-align: top;\n",
       "    }\n",
       "\n",
       "    .dataframe thead th {\n",
       "        text-align: right;\n",
       "    }\n",
       "</style>\n",
       "<table border=\"1\" class=\"dataframe\">\n",
       "  <thead>\n",
       "    <tr style=\"text-align: right;\">\n",
       "      <th></th>\n",
       "      <th>Количество вершин</th>\n",
       "      <th>Время выполнения, мс</th>\n",
       "    </tr>\n",
       "  </thead>\n",
       "  <tbody>\n",
       "    <tr>\n",
       "      <th>0</th>\n",
       "      <td>4</td>\n",
       "      <td>0.402</td>\n",
       "    </tr>\n",
       "    <tr>\n",
       "      <th>1</th>\n",
       "      <td>5</td>\n",
       "      <td>0.458</td>\n",
       "    </tr>\n",
       "  </tbody>\n",
       "</table>\n",
       "</div>"
      ],
      "text/plain": [
       "  Количество вершин Время выполнения, мс\n",
       "0                 4                0.402\n",
       "1                 5                0.458"
      ]
     },
     "execution_count": 190,
     "metadata": {},
     "output_type": "execute_result"
    }
   ],
   "source": [
    "#алгоритм дейкстры\n",
    "def arg_min(T, S):\n",
    "    amin = -1\n",
    "    m = math.inf  # максимальное значение\n",
    "    for i, t in enumerate(T):\n",
    "        if t < m and i not in S:\n",
    "            m = t\n",
    "            amin = i\n",
    "    return amin\n",
    "\n",
    "def dijkstra(v, D):\n",
    "    N = len(D)  # число вершин в графе\n",
    "    T = [math.inf]*N   # последняя строка таблицы\n",
    "\n",
    "    v = 0       # стартовая вершина (нумерация с нуля)\n",
    "    S = {v}     # просмотренные вершины\n",
    "    T[v] = 0    # нулевой вес для стартовой вершины\n",
    "    M = [0]*N   # оптимальные связи между вершинами\n",
    "\n",
    "    while v != -1:          # цикл, пока не просмотрим все вершины\n",
    "        for j, dw in enumerate(D[v]):   # перебираем все связанные вершины с вершиной v\n",
    "            if j not in S:           # если вершина еще не просмотрена\n",
    "                w = T[v] + dw\n",
    "                if w < T[j]:\n",
    "                    T[j] = w\n",
    "                    M[j] = v        # связываем вершину j с вершиной v\n",
    "\n",
    "        v = arg_min(T, S)            # выбираем следующий узел с наименьшим весом\n",
    "        if v >= 0:                    # выбрана очередная вершина\n",
    "            S.add(v)                 # добавляем новую вершину в рассмотрение\n",
    "\n",
    "    # формирование оптимального маршрута:\n",
    "    start = 0\n",
    "    end = 2\n",
    "    P = [end]\n",
    "    while end != start:\n",
    "        end = M[P[-1]]\n",
    "        P.append(end)\n",
    "    P.reverse()\n",
    "    \n",
    "    return T, P\n",
    "\n",
    "start_time = time.time()\n",
    "\n",
    "ans, m = dijkstra(source, gr)\n",
    "print(\"Кратчайшее расстояние = \", ans[target])\n",
    "\n",
    "print(\"--- %s ms ---\" % ((time.time() - start_time)*1000))\n",
    "\n",
    "table = [[\"4\", \"0.402\"],\n",
    "        [\"5\", \"0.458\"]]\n",
    "pd.DataFrame(table, columns=[\"Количество вершин\",\"Время выполнения, мс\"])"
   ]
  },
  {
   "cell_type": "code",
   "execution_count": 192,
   "metadata": {},
   "outputs": [
    {
     "name": "stdout",
     "output_type": "stream",
     "text": [
      "Кратчайшее расстояние =  9\n",
      "--- 0.5548000335693359 ms ---\n"
     ]
    },
    {
     "data": {
      "text/html": [
       "<div>\n",
       "<style scoped>\n",
       "    .dataframe tbody tr th:only-of-type {\n",
       "        vertical-align: middle;\n",
       "    }\n",
       "\n",
       "    .dataframe tbody tr th {\n",
       "        vertical-align: top;\n",
       "    }\n",
       "\n",
       "    .dataframe thead th {\n",
       "        text-align: right;\n",
       "    }\n",
       "</style>\n",
       "<table border=\"1\" class=\"dataframe\">\n",
       "  <thead>\n",
       "    <tr style=\"text-align: right;\">\n",
       "      <th></th>\n",
       "      <th>Количество вершин</th>\n",
       "      <th>Время выполнения, мс</th>\n",
       "    </tr>\n",
       "  </thead>\n",
       "  <tbody>\n",
       "    <tr>\n",
       "      <th>0</th>\n",
       "      <td>4</td>\n",
       "      <td>0.622</td>\n",
       "    </tr>\n",
       "    <tr>\n",
       "      <th>1</th>\n",
       "      <td>5</td>\n",
       "      <td>0.767</td>\n",
       "    </tr>\n",
       "  </tbody>\n",
       "</table>\n",
       "</div>"
      ],
      "text/plain": [
       "  Количество вершин Время выполнения, мс\n",
       "0                 4                0.622\n",
       "1                 5                0.767"
      ]
     },
     "execution_count": 192,
     "metadata": {},
     "output_type": "execute_result"
    }
   ],
   "source": [
    "#алгоритм беллмана-форда\n",
    "def bellman_ford(g, s):\n",
    "    n = len(g)\n",
    "    lambdas = [math.inf]*n\n",
    "    labels = []\n",
    "    lambdas[s] = 0\n",
    "    \n",
    "    for k in range(1, n-1):\n",
    "        for i in range(n):\n",
    "            for j in range(n):\n",
    "                labels.append(lambdas[j] + g[j][i])\n",
    "            lambdas[i] = min(labels)\n",
    "            labels.clear()\n",
    "            \n",
    "    return lambdas\n",
    "\n",
    "start_time = time.time()\n",
    "\n",
    "ans = bellman_ford(g, source)\n",
    "print(\"Кратчайшее расстояние = \", ans[target])\n",
    "\n",
    "print(\"--- %s ms ---\" % ((time.time() - start_time)*1000))\n",
    "\n",
    "table = [[\"4\", \"0.622\"],\n",
    "        [\"5\", \"0.767\"]]\n",
    "pd.DataFrame(table, columns=[\"Количество вершин\",\"Время выполнения, мс\"])"
   ]
  },
  {
   "cell_type": "code",
   "execution_count": 194,
   "metadata": {
    "scrolled": true
   },
   "outputs": [
    {
     "name": "stdout",
     "output_type": "stream",
     "text": [
      "Кратчайшее расстояние =  9\n",
      "--- 0.6778240203857422 ms ---\n"
     ]
    },
    {
     "data": {
      "text/html": [
       "<div>\n",
       "<style scoped>\n",
       "    .dataframe tbody tr th:only-of-type {\n",
       "        vertical-align: middle;\n",
       "    }\n",
       "\n",
       "    .dataframe tbody tr th {\n",
       "        vertical-align: top;\n",
       "    }\n",
       "\n",
       "    .dataframe thead th {\n",
       "        text-align: right;\n",
       "    }\n",
       "</style>\n",
       "<table border=\"1\" class=\"dataframe\">\n",
       "  <thead>\n",
       "    <tr style=\"text-align: right;\">\n",
       "      <th></th>\n",
       "      <th>Количество вершин</th>\n",
       "      <th>Время выполнения, мс</th>\n",
       "    </tr>\n",
       "  </thead>\n",
       "  <tbody>\n",
       "    <tr>\n",
       "      <th>0</th>\n",
       "      <td>4</td>\n",
       "      <td>0.679</td>\n",
       "    </tr>\n",
       "    <tr>\n",
       "      <th>1</th>\n",
       "      <td>5</td>\n",
       "      <td>0.725</td>\n",
       "    </tr>\n",
       "  </tbody>\n",
       "</table>\n",
       "</div>"
      ],
      "text/plain": [
       "  Количество вершин Время выполнения, мс\n",
       "0                 4                0.679\n",
       "1                 5                0.725"
      ]
     },
     "execution_count": 194,
     "metadata": {},
     "output_type": "execute_result"
    }
   ],
   "source": [
    "#алгоритм джонсона\n",
    "def johnson(g, s):\n",
    "    #добавляем в граф новую вершину, пути от которой до всех других = 0\n",
    "    n = len(g)\n",
    "    for i in range(n):\n",
    "        g[i].append(math.inf)\n",
    "    gr = [0]*(n+1)\n",
    "    g.append(gr)\n",
    "\n",
    "    #ищем кратчайший путь из новой вершины ко всем другим\n",
    "    g[n] = bellman_ford(g, n)\n",
    "\n",
    "    #задаем новые значения для каждой вершины\n",
    "    for i in range(n):\n",
    "        for j in range(n):\n",
    "            g[i][j] = g[i][j] + g[n][i] - g[n][j]\n",
    "\n",
    "    #удаляем добавленную вершину\n",
    "    for i in range(n):\n",
    "        g[i].pop()\n",
    "    g.pop()\n",
    "\n",
    "    #применяем алгоритм дейкстры к новым вершинам с неотрицательными весами\n",
    "    ans, m = dijkstra(source, g)\n",
    "    return ans\n",
    "\n",
    "start_time = time.time()\n",
    "\n",
    "ans = johnson(g, source)\n",
    "print(\"Кратчайшее расстояние = \", ans[target])\n",
    "\n",
    "print(\"--- %s ms ---\" % ((time.time() - start_time)*1000))\n",
    "\n",
    "table = [[\"4\", \"0.679\"],\n",
    "        [\"5\", \"0.725\"]]\n",
    "pd.DataFrame(table, columns=[\"Количество вершин\",\"Время выполнения, мс\"])"
   ]
  },
  {
   "cell_type": "code",
   "execution_count": 196,
   "metadata": {},
   "outputs": [
    {
     "name": "stdout",
     "output_type": "stream",
     "text": [
      "Кратчайшее расстояние =  9\n",
      "--- 0.5879402160644531 ms ---\n"
     ]
    },
    {
     "data": {
      "text/html": [
       "<div>\n",
       "<style scoped>\n",
       "    .dataframe tbody tr th:only-of-type {\n",
       "        vertical-align: middle;\n",
       "    }\n",
       "\n",
       "    .dataframe tbody tr th {\n",
       "        vertical-align: top;\n",
       "    }\n",
       "\n",
       "    .dataframe thead th {\n",
       "        text-align: right;\n",
       "    }\n",
       "</style>\n",
       "<table border=\"1\" class=\"dataframe\">\n",
       "  <thead>\n",
       "    <tr style=\"text-align: right;\">\n",
       "      <th></th>\n",
       "      <th>Количество вершин</th>\n",
       "      <th>Время выполнения, мс</th>\n",
       "    </tr>\n",
       "  </thead>\n",
       "  <tbody>\n",
       "    <tr>\n",
       "      <th>0</th>\n",
       "      <td>4</td>\n",
       "      <td>0.579</td>\n",
       "    </tr>\n",
       "    <tr>\n",
       "      <th>1</th>\n",
       "      <td>5</td>\n",
       "      <td>0.721</td>\n",
       "    </tr>\n",
       "  </tbody>\n",
       "</table>\n",
       "</div>"
      ],
      "text/plain": [
       "  Количество вершин Время выполнения, мс\n",
       "0                 4                0.579\n",
       "1                 5                0.721"
      ]
     },
     "execution_count": 196,
     "metadata": {},
     "output_type": "execute_result"
    }
   ],
   "source": [
    "#алгоритм левита\n",
    "from collections import deque\n",
    "\n",
    "def levit(g, source):\n",
    "    n = len(g)\n",
    "    m1 = deque()\n",
    "    m1.append(source)\n",
    "\n",
    "    #текущие кратчайшие длины путей\n",
    "    d = [math.inf]*n\n",
    "    d[source] = 0\n",
    "\n",
    "    p = [-1]*n\n",
    "    idd = [0]*n\n",
    "\n",
    "    while len(m1) != 0:\n",
    "        v = m1.popleft()\n",
    "        idd[v] = 1\n",
    "        for i in range(n):\n",
    "            t = i\n",
    "            l = g[v][i]\n",
    "            if d[t] > (d[v]+l):\n",
    "                d[t] = d[v] + l\n",
    "                if idd[t] == 0:\n",
    "                    m1.append(t)\n",
    "                elif idd[t] == 1:\n",
    "                    m1.appendleft(t)\n",
    "                p[t] = v\n",
    "                idd[t] = 1\n",
    "                \n",
    "    return d\n",
    "\n",
    "start_time = time.time()\n",
    "\n",
    "ans = levit(g, source)\n",
    "print(\"Кратчайшее расстояние = \", ans[target])\n",
    "\n",
    "print(\"--- %s ms ---\" % ((time.time() - start_time)*1000))\n",
    "\n",
    "table = [[\"4\", \"0.579\"],\n",
    "        [\"5\", \"0.721\"]]\n",
    "pd.DataFrame(table, columns=[\"Количество вершин\",\"Время выполнения, мс\"])"
   ]
  },
  {
   "cell_type": "code",
   "execution_count": 31,
   "metadata": {},
   "outputs": [
    {
     "data": {
      "image/png": "[encoded data removed]",
      "text/plain": [
       "<Figure size 432x288 with 1 Axes>"
      ]
     },
     "metadata": {},
     "output_type": "display_data"
    }
   ],
   "source": [
    "#визуализация графа\n",
    "import networkx as nx\n",
    "\n",
    "def print_graph(source, target):\n",
    "    G = nx.DiGraph()\n",
    "\n",
    "    G.add_weighted_edges_from([\n",
    "        ('a', 'b', 9), ('a', 'd', 5), ('b', 'c', 1), ('b', 'd', 2), \n",
    "        ('c', 'e', 1), ('d', 'b', 3), ('d', 'c', 5), ('d', 'e', 2), \n",
    "        ('e', 'a', 7), ('e', 'c', 6)])\n",
    "\n",
    "    # расчет кратчайших путей для ВСЕХ пар вершин\n",
    "    predecessors, _ = nx.floyd_warshall_predecessor_and_distance(G)\n",
    "    # кратчайший путь от вершины [a] к вершине [c]\n",
    "    shortest_path_s_t = nx.reconstruct_path(source, target, predecessors)\n",
    "    # список ребер кратчайшего пути\n",
    "    edges = [(a,b) for a,b in zip(shortest_path_s_t, shortest_path_s_t[1:])]\n",
    "    # список всех весов ребер\n",
    "    weights = nx.get_edge_attributes(G, 'weight')\n",
    "    # позиции вершин для визуализации графа\n",
    "    #pos = nx.spring_layout(G)\n",
    "    pos = nx.circular_layout(G)\n",
    "    # рисуем граф\n",
    "    nx.draw_networkx(G, pos=pos)\n",
    "    # рисуем веса ребер\n",
    "    nx.draw_networkx_edge_labels(G, pos, edge_labels=weights)\n",
    "    # рисуем кратчайший путь\n",
    "    nx.draw_networkx_edges(G, pos=pos, edgelist=edges, edge_color=\"r\", width=3)\n",
    "\n",
    "alf = []\n",
    "for i in range(97,123):\n",
    "    alf.append(chr(i))\n",
    "\n",
    "s = alf[s]\n",
    "t = alf[t]\n",
    "\n",
    "print_graph(s, t)"
   ]
  },
  {
   "cell_type": "markdown",
   "metadata": {
    "id": "diOb-K7LnO5a"
   },
   "source": [
    "### Вывод"
   ]
  },
  {
   "cell_type": "markdown",
   "metadata": {},
   "source": [
    "В ходе работы были изучены основные алгоритмы поиска кратчайшего пути между вершинами графа, а также графическое построение графа и найденного кратчайшего маршрута. "
   ]
  }
 ],
 "metadata": {
  "colab": {
   "name": "Lab6.ipynb",
   "provenance": []
  },
  "kernelspec": {
   "display_name": "Python 3 (ipykernel)",
   "language": "python",
   "name": "python3"
  },
  "language_info": {
   "codemirror_mode": {
    "name": "ipython",
    "version": 3
   },
   "file_extension": ".py",
   "mimetype": "text/x-python",
   "name": "python",
   "nbconvert_exporter": "python",
   "pygments_lexer": "ipython3",
   "version": "3.9.7"
  }
 },
 "nbformat": 4,
 "nbformat_minor": 1
}
